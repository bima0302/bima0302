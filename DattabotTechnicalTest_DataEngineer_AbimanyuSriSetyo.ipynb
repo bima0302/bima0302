{
  "nbformat": 4,
  "nbformat_minor": 0,
  "metadata": {
    "colab": {
      "provenance": [],
      "authorship_tag": "ABX9TyPUn4FV5Fnj4oR5Ky2b817l",
      "include_colab_link": true
    },
    "kernelspec": {
      "name": "python3",
      "display_name": "Python 3"
    },
    "language_info": {
      "name": "python"
    }
  },
  "cells": [
    {
      "cell_type": "markdown",
      "metadata": {
        "id": "view-in-github",
        "colab_type": "text"
      },
      "source": [
        "<a href=\"https://colab.research.google.com/github/bzizmza/bzizmza/blob/main/DattabotTechnicalTest_DataEngineer_AbimanyuSriSetyo.ipynb\" target=\"_parent\"><img src=\"https://colab.research.google.com/assets/colab-badge.svg\" alt=\"Open In Colab\"/></a>"
      ]
    },
    {
      "cell_type": "markdown",
      "source": [
        "# Dattabot Technical Test - Data Engineer\n",
        "by Abimanyu Sri Setyo"
      ],
      "metadata": {
        "id": "rNT7fB6QSb2G"
      }
    },
    {
      "cell_type": "markdown",
      "source": [
        ">[Dattabot Technical Test - Data Engineer](#scrollTo=rNT7fB6QSb2G)\n",
        "\n",
        ">>[Loading a Dataset from the Google Drive to Google Colab](#scrollTo=PcZFrchWTkea)\n",
        "\n",
        ">>>[Mounting my Google Drive](#scrollTo=mlt6HvVfUkyG)\n",
        "\n",
        ">>>[Then, it reads the .xlsx file and converts each sheet to dataset1, dataset2, and dataset3.](#scrollTo=1PgxO246UoEk)\n",
        "\n",
        ">>>[Ensure dataset1, dataset2, and dataset3 have an \"Employee_ID\" column that contains a unique value before merging.](#scrollTo=UQ4lCo9k805i)\n",
        "\n",
        ">>>[Merge dataset1, dataset2, and dataset3 to dataset with key 'Employee_ID'](#scrollTo=Gv8jGiejYyZQ)\n",
        "\n",
        ">>[Cleaning dataset](#scrollTo=x5qRXV5H-gBE)\n",
        "\n",
        ">>>[Check data before cleaning](#scrollTo=nrerG9jLTpMv)\n",
        "\n",
        ">>>[Cleaning data in the 'Employee_ID' column](#scrollTo=8-LkHZJDP8vs)\n",
        "\n",
        ">>>>[See information in the 'Employee_ID' column](#scrollTo=J5XMLilfQmc-)\n",
        "\n",
        ">>>>[Checking the unique amount of data in the 'Employee_ID' column, from here it will also be seen whether there is duplicate data](#scrollTo=n9OAkq2TQqeJ)\n",
        "\n",
        ">>>[Cleaning data in the 'Name' column](#scrollTo=rN4twMIQAewj)\n",
        "\n",
        ">>>>[Checks whether the \"Name\" column contains non-letter characters or other special characters that are irrelevant in people's names.](#scrollTo=rBjlrXiBBLMC)\n",
        "\n",
        ">>>>[Replaces unwanted characters with empty strings](#scrollTo=H1FCs-_vC0vQ)\n",
        "\n",
        ">>>>[Re-check the \"name\" column, if the column only contains letters it will not display anything](#scrollTo=geX8i54oDt2f)\n",
        "\n",
        ">>>[Cleaning data in the 'Gender' column](#scrollTo=5B4fnYdMD8m0)\n",
        "\n",
        ">>>>[Checking irregular writing in the 'Gender' column](#scrollTo=RWirsSkdMNRR)\n",
        "\n",
        ">>>>[Change 'M', 'Male', 'Pria', 'Man', 'Laki-laki' to 'Male'](#scrollTo=q--P1bG5N3ak)\n",
        "\n",
        ">>>>[Change 'F', 'Perempuan', 'Wanita', 'Female' to 'Female'](#scrollTo=sPLUa_RlOJUB)\n",
        "\n",
        ">>>>[Re-check the contents of the data in the 'Gender' column](#scrollTo=gN8zmy9bOm4H)\n",
        "\n",
        ">>>[Cleaning data in the 'EDU_LVL' column](#scrollTo=6g8nHBlqPPH9)\n",
        "\n",
        ">>>>[Checking irregular writing in the 'Gender' column](#scrollTo=t8cwBpTGPjTe)\n",
        "\n",
        ">>>[Cleaning data in the 'JOB_CATEGORY' column](#scrollTo=JDZFNnn4Pvyi)\n",
        "\n",
        ">>>>[Checking irregular writing in the 'JOB_CATEGORY' column](#scrollTo=zrt_HEywWjWu)\n",
        "\n",
        ">>>[Cleaning data in the 'AGE' column](#scrollTo=0m4zi4CcTlfq)\n",
        "\n",
        ">>>>[Separates the age column into a component of the year, month and day](#scrollTo=tEszMAmTVVWg)\n",
        "\n",
        ">>>>[Calculate the date of birth based on components of the year, month, and day](#scrollTo=JTu3pocaWOi6)\n",
        "\n",
        ">>>>[Drop the 'age' column from dataset and change the sequence of the column so that the 'Birthdate' column is in the position that was previously occupied by the 'Age' column column](#scrollTo=k7ZYgyb2jCox)\n",
        "\n",
        ">>>[Cleaning data in the 'Score' column](#scrollTo=AsjCAB3yYPo7)\n",
        "\n",
        ">>>>[Check information from the column](#scrollTo=GSHUrLL2-4Ea)\n",
        "\n",
        ">>>>[Checking the null in the 'Score' column](#scrollTo=3kqHgaE8_ESG)\n",
        "\n",
        ">>>>[Convert the 'Score' column to the numerical data type](#scrollTo=ixPvRGN5Baxq)\n",
        "\n",
        ">>>>[Replace the NULL in the 'Score' column with an average value](#scrollTo=APBYcUPr_iV9)\n",
        "\n",
        ">>>>[Re-checking null in the 'score' column](#scrollTo=p3a3iyY-CUMV)\n",
        "\n",
        ">>>[Cleaning data in the 'Phone Number' column](#scrollTo=eqk-76duCgRK)\n",
        "\n",
        ">>>>[Change the data type column 'Phone Number' to String](#scrollTo=wja7SOieMt2h)\n",
        "\n",
        ">>>>[Extraction telephone number patterns and count the number of telephone number emergence](#scrollTo=FiM27-z5Pdfd)\n",
        "\n",
        ">>>>[Change unwanted prefix with a consistent prefix](#scrollTo=RQUGzg6hQKvs)\n",
        "\n",
        ">>>[Cleaning data in the 'Domicile_Province' column](#scrollTo=ddy8YfVeQmLT)\n",
        "\n",
        ">>>>[Make a Dictionary for Mapping](#scrollTo=YFz9XF9HQ61k)\n",
        "\n",
        ">>>>[Change the column value 'Domicile_Province' using mapping](#scrollTo=-BYfjqyLSfEg)\n",
        "\n",
        ">>>[Cleaning data in the 'First_Day_Employment' column](#scrollTo=fTcU7fTeTHR_)\n",
        "\n",
        ">>>>[Determine the expected pattern from the date format](#scrollTo=61J_xYnAT_D-)\n",
        "\n",
        ">>>>[Make a special function to convert the date format](#scrollTo=QQFn2dokBZBd)\n",
        "\n",
        ">>>>[Conversion Value Using Special Functions](#scrollTo=Ojmy7_t6BkP3)\n",
        "\n",
        ">>>>[Then, print data and check whether there is data that is in the column](#scrollTo=x7jWIjHvCFwA)\n",
        "\n",
        ">>>[Check data after cleaning](#scrollTo=OcGfQIN7T5Hx)\n",
        "\n"
      ],
      "metadata": {
        "colab_type": "toc",
        "id": "-4Dfmt1rYZ_Y"
      }
    },
    {
      "cell_type": "markdown",
      "source": [
        "## Loading a Dataset from the Google Drive to Google Colab"
      ],
      "metadata": {
        "id": "PcZFrchWTkea"
      }
    },
    {
      "cell_type": "markdown",
      "source": [
        "### Mounting my Google Drive"
      ],
      "metadata": {
        "id": "mlt6HvVfUkyG"
      }
    },
    {
      "cell_type": "code",
      "execution_count": null,
      "metadata": {
        "colab": {
          "base_uri": "https://localhost:8080/"
        },
        "id": "_wO5qiLwSPvb",
        "outputId": "b21abf65-399a-4568-a97f-0cb2a80a690f"
      },
      "outputs": [
        {
          "output_type": "stream",
          "name": "stdout",
          "text": [
            "Drive already mounted at /content/drive; to attempt to forcibly remount, call drive.mount(\"/content/drive\", force_remount=True).\n"
          ]
        }
      ],
      "source": [
        "from google.colab import drive\n",
        "drive.mount('/content/drive')"
      ]
    },
    {
      "cell_type": "markdown",
      "source": [
        "### Then, it reads the .xlsx file and converts each sheet to dataset1, dataset2, and dataset3."
      ],
      "metadata": {
        "id": "1PgxO246UoEk"
      }
    },
    {
      "cell_type": "code",
      "source": [
        "import pandas as pd\n",
        "\n",
        "dataset1 = pd.read_excel('drive/MyDrive/DattabotTechnicalTest_DataEngineer/dataset2022.xlsx', \"dataset1\")\n",
        "\n",
        "# check the dataset1\n",
        "dataset1.head(5)"
      ],
      "metadata": {
        "colab": {
          "base_uri": "https://localhost:8080/",
          "height": 206
        },
        "id": "6jnh9CFmU5WE",
        "outputId": "ecce9423-ebe5-473f-82b2-895a71e1d4d3"
      },
      "execution_count": null,
      "outputs": [
        {
          "output_type": "execute_result",
          "data": {
            "text/plain": [
              "   Employee_ID             Name GENDER EDU_LVL              JOB_CATEGORY  \\\n",
              "0            1      Claire Gute      M      S1  Functional Expert Band 2   \n",
              "1            2  Darrin Van Huff      M      S2                   Manager   \n",
              "2            3   Sean O'Donnell   Male    SLTA                     Staff   \n",
              "3            4  Brosina Hoffman      M      S2                   Manager   \n",
              "4            5     Andrew Allen      F      S1                   Trainee   \n",
              "\n",
              "                          AGE  Score  Phone Number Domicile_Province  \\\n",
              "0  37 years, 2 month, 11 days   3.98  628315242420       DKI Jakarta   \n",
              "1  42 years, 3 month, 14 days   4.15   85246790036           Jakarta   \n",
              "2  48 years, 4 month, 25 days   3.98   85246833311               JKT   \n",
              "3   50 years, 7 month, 2 days   3.23   85246990032         West Java   \n",
              "4   20 years, 4 month, 8 days   -      85247028027        Jawa Barat   \n",
              "\n",
              "  First_Day_Employment  \n",
              "0           2006-02-16  \n",
              "1           12-20-2002  \n",
              "2           1997-08-20  \n",
              "3           06/19/1993  \n",
              "4           06-25-2020  "
            ],
            "text/html": [
              "\n",
              "  <div id=\"df-4a4a3050-264e-4934-ab91-2b67f105a97b\">\n",
              "    <div class=\"colab-df-container\">\n",
              "      <div>\n",
              "<style scoped>\n",
              "    .dataframe tbody tr th:only-of-type {\n",
              "        vertical-align: middle;\n",
              "    }\n",
              "\n",
              "    .dataframe tbody tr th {\n",
              "        vertical-align: top;\n",
              "    }\n",
              "\n",
              "    .dataframe thead th {\n",
              "        text-align: right;\n",
              "    }\n",
              "</style>\n",
              "<table border=\"1\" class=\"dataframe\">\n",
              "  <thead>\n",
              "    <tr style=\"text-align: right;\">\n",
              "      <th></th>\n",
              "      <th>Employee_ID</th>\n",
              "      <th>Name</th>\n",
              "      <th>GENDER</th>\n",
              "      <th>EDU_LVL</th>\n",
              "      <th>JOB_CATEGORY</th>\n",
              "      <th>AGE</th>\n",
              "      <th>Score</th>\n",
              "      <th>Phone Number</th>\n",
              "      <th>Domicile_Province</th>\n",
              "      <th>First_Day_Employment</th>\n",
              "    </tr>\n",
              "  </thead>\n",
              "  <tbody>\n",
              "    <tr>\n",
              "      <th>0</th>\n",
              "      <td>1</td>\n",
              "      <td>Claire Gute</td>\n",
              "      <td>M</td>\n",
              "      <td>S1</td>\n",
              "      <td>Functional Expert Band 2</td>\n",
              "      <td>37 years, 2 month, 11 days</td>\n",
              "      <td>3.98</td>\n",
              "      <td>628315242420</td>\n",
              "      <td>DKI Jakarta</td>\n",
              "      <td>2006-02-16</td>\n",
              "    </tr>\n",
              "    <tr>\n",
              "      <th>1</th>\n",
              "      <td>2</td>\n",
              "      <td>Darrin Van Huff</td>\n",
              "      <td>M</td>\n",
              "      <td>S2</td>\n",
              "      <td>Manager</td>\n",
              "      <td>42 years, 3 month, 14 days</td>\n",
              "      <td>4.15</td>\n",
              "      <td>85246790036</td>\n",
              "      <td>Jakarta</td>\n",
              "      <td>12-20-2002</td>\n",
              "    </tr>\n",
              "    <tr>\n",
              "      <th>2</th>\n",
              "      <td>3</td>\n",
              "      <td>Sean O'Donnell</td>\n",
              "      <td>Male</td>\n",
              "      <td>SLTA</td>\n",
              "      <td>Staff</td>\n",
              "      <td>48 years, 4 month, 25 days</td>\n",
              "      <td>3.98</td>\n",
              "      <td>85246833311</td>\n",
              "      <td>JKT</td>\n",
              "      <td>1997-08-20</td>\n",
              "    </tr>\n",
              "    <tr>\n",
              "      <th>3</th>\n",
              "      <td>4</td>\n",
              "      <td>Brosina Hoffman</td>\n",
              "      <td>M</td>\n",
              "      <td>S2</td>\n",
              "      <td>Manager</td>\n",
              "      <td>50 years, 7 month, 2 days</td>\n",
              "      <td>3.23</td>\n",
              "      <td>85246990032</td>\n",
              "      <td>West Java</td>\n",
              "      <td>06/19/1993</td>\n",
              "    </tr>\n",
              "    <tr>\n",
              "      <th>4</th>\n",
              "      <td>5</td>\n",
              "      <td>Andrew Allen</td>\n",
              "      <td>F</td>\n",
              "      <td>S1</td>\n",
              "      <td>Trainee</td>\n",
              "      <td>20 years, 4 month, 8 days</td>\n",
              "      <td>-</td>\n",
              "      <td>85247028027</td>\n",
              "      <td>Jawa Barat</td>\n",
              "      <td>06-25-2020</td>\n",
              "    </tr>\n",
              "  </tbody>\n",
              "</table>\n",
              "</div>\n",
              "      <button class=\"colab-df-convert\" onclick=\"convertToInteractive('df-4a4a3050-264e-4934-ab91-2b67f105a97b')\"\n",
              "              title=\"Convert this dataframe to an interactive table.\"\n",
              "              style=\"display:none;\">\n",
              "        \n",
              "  <svg xmlns=\"http://www.w3.org/2000/svg\" height=\"24px\"viewBox=\"0 0 24 24\"\n",
              "       width=\"24px\">\n",
              "    <path d=\"M0 0h24v24H0V0z\" fill=\"none\"/>\n",
              "    <path d=\"M18.56 5.44l.94 2.06.94-2.06 2.06-.94-2.06-.94-.94-2.06-.94 2.06-2.06.94zm-11 1L8.5 8.5l.94-2.06 2.06-.94-2.06-.94L8.5 2.5l-.94 2.06-2.06.94zm10 10l.94 2.06.94-2.06 2.06-.94-2.06-.94-.94-2.06-.94 2.06-2.06.94z\"/><path d=\"M17.41 7.96l-1.37-1.37c-.4-.4-.92-.59-1.43-.59-.52 0-1.04.2-1.43.59L10.3 9.45l-7.72 7.72c-.78.78-.78 2.05 0 2.83L4 21.41c.39.39.9.59 1.41.59.51 0 1.02-.2 1.41-.59l7.78-7.78 2.81-2.81c.8-.78.8-2.07 0-2.86zM5.41 20L4 18.59l7.72-7.72 1.47 1.35L5.41 20z\"/>\n",
              "  </svg>\n",
              "      </button>\n",
              "      \n",
              "  <style>\n",
              "    .colab-df-container {\n",
              "      display:flex;\n",
              "      flex-wrap:wrap;\n",
              "      gap: 12px;\n",
              "    }\n",
              "\n",
              "    .colab-df-convert {\n",
              "      background-color: #E8F0FE;\n",
              "      border: none;\n",
              "      border-radius: 50%;\n",
              "      cursor: pointer;\n",
              "      display: none;\n",
              "      fill: #1967D2;\n",
              "      height: 32px;\n",
              "      padding: 0 0 0 0;\n",
              "      width: 32px;\n",
              "    }\n",
              "\n",
              "    .colab-df-convert:hover {\n",
              "      background-color: #E2EBFA;\n",
              "      box-shadow: 0px 1px 2px rgba(60, 64, 67, 0.3), 0px 1px 3px 1px rgba(60, 64, 67, 0.15);\n",
              "      fill: #174EA6;\n",
              "    }\n",
              "\n",
              "    [theme=dark] .colab-df-convert {\n",
              "      background-color: #3B4455;\n",
              "      fill: #D2E3FC;\n",
              "    }\n",
              "\n",
              "    [theme=dark] .colab-df-convert:hover {\n",
              "      background-color: #434B5C;\n",
              "      box-shadow: 0px 1px 3px 1px rgba(0, 0, 0, 0.15);\n",
              "      filter: drop-shadow(0px 1px 2px rgba(0, 0, 0, 0.3));\n",
              "      fill: #FFFFFF;\n",
              "    }\n",
              "  </style>\n",
              "\n",
              "      <script>\n",
              "        const buttonEl =\n",
              "          document.querySelector('#df-4a4a3050-264e-4934-ab91-2b67f105a97b button.colab-df-convert');\n",
              "        buttonEl.style.display =\n",
              "          google.colab.kernel.accessAllowed ? 'block' : 'none';\n",
              "\n",
              "        async function convertToInteractive(key) {\n",
              "          const element = document.querySelector('#df-4a4a3050-264e-4934-ab91-2b67f105a97b');\n",
              "          const dataTable =\n",
              "            await google.colab.kernel.invokeFunction('convertToInteractive',\n",
              "                                                     [key], {});\n",
              "          if (!dataTable) return;\n",
              "\n",
              "          const docLinkHtml = 'Like what you see? Visit the ' +\n",
              "            '<a target=\"_blank\" href=https://colab.research.google.com/notebooks/data_table.ipynb>data table notebook</a>'\n",
              "            + ' to learn more about interactive tables.';\n",
              "          element.innerHTML = '';\n",
              "          dataTable['output_type'] = 'display_data';\n",
              "          await google.colab.output.renderOutput(dataTable, element);\n",
              "          const docLink = document.createElement('div');\n",
              "          docLink.innerHTML = docLinkHtml;\n",
              "          element.appendChild(docLink);\n",
              "        }\n",
              "      </script>\n",
              "    </div>\n",
              "  </div>\n",
              "  "
            ]
          },
          "metadata": {},
          "execution_count": 2
        }
      ]
    },
    {
      "cell_type": "code",
      "source": [
        "dataset1.info()"
      ],
      "metadata": {
        "colab": {
          "base_uri": "https://localhost:8080/"
        },
        "id": "_MGdVJtr7jA-",
        "outputId": "b2f08d12-1ede-4b43-9fc0-895a31cc1e1b"
      },
      "execution_count": null,
      "outputs": [
        {
          "output_type": "stream",
          "name": "stdout",
          "text": [
            "<class 'pandas.core.frame.DataFrame'>\n",
            "RangeIndex: 340 entries, 0 to 339\n",
            "Data columns (total 10 columns):\n",
            " #   Column                Non-Null Count  Dtype \n",
            "---  ------                --------------  ----- \n",
            " 0   Employee_ID           340 non-null    int64 \n",
            " 1   Name                  340 non-null    object\n",
            " 2   GENDER                340 non-null    object\n",
            " 3   EDU_LVL               340 non-null    object\n",
            " 4   JOB_CATEGORY          340 non-null    object\n",
            " 5   AGE                   340 non-null    object\n",
            " 6   Score                 333 non-null    object\n",
            " 7   Phone Number          340 non-null    int64 \n",
            " 8   Domicile_Province     340 non-null    object\n",
            " 9   First_Day_Employment  340 non-null    object\n",
            "dtypes: int64(2), object(8)\n",
            "memory usage: 26.7+ KB\n"
          ]
        }
      ]
    },
    {
      "cell_type": "code",
      "source": [
        "dataset2 = pd.read_excel('drive/MyDrive/DattabotTechnicalTest_DataEngineer/dataset2022.xlsx', \"dataset2\")\n",
        "\n",
        "# check the dataset2\n",
        "dataset2.head(5)"
      ],
      "metadata": {
        "colab": {
          "base_uri": "https://localhost:8080/",
          "height": 206
        },
        "id": "EUdXPc74YytS",
        "outputId": "d4fbe4ab-da0a-4f09-dd88-9b6efba07d8e"
      },
      "execution_count": null,
      "outputs": [
        {
          "output_type": "execute_result",
          "data": {
            "text/plain": [
              "   Employee_ID           Name GENDER EDU_LVL              JOB_CATEGORY  \\\n",
              "0          341   Darrin Sayre      F      S1                     Staff   \n",
              "1          342  Gary Zandusky      M      S2                     Staff   \n",
              "2          343  Phillina Ober      F      S2                     Staff   \n",
              "3          344  Sung Shariari      M      S1                     Staff   \n",
              "4          345    Maya Herman      M      S1  Functional Expert Band 2   \n",
              "\n",
              "                          AGE Score  Phone Number Domicile_Province  \\\n",
              "0  29 years, 9 month, 12 days  3.55  628315298115        Purwokerto   \n",
              "1   24 years, 9 month, 7 days  3.47   85246794110        Purwakarta   \n",
              "2   33 years, 1 month, 3 days   3.7   85246860540        Yogyakarta   \n",
              "3  42 years, 2 month, 18 days   4.6   85246975220               DIY   \n",
              "4   28 years, 7 month, 4 days  3.11   85247092105             Depok   \n",
              "\n",
              "  First_Day_Employment  \n",
              "0           03-15-2016  \n",
              "1           02-21-2020  \n",
              "2           12/22/2011  \n",
              "3           09-26-2005  \n",
              "4           03-17-2015  "
            ],
            "text/html": [
              "\n",
              "  <div id=\"df-d2f0eddf-ac6f-4611-8e73-d71909c5a17c\">\n",
              "    <div class=\"colab-df-container\">\n",
              "      <div>\n",
              "<style scoped>\n",
              "    .dataframe tbody tr th:only-of-type {\n",
              "        vertical-align: middle;\n",
              "    }\n",
              "\n",
              "    .dataframe tbody tr th {\n",
              "        vertical-align: top;\n",
              "    }\n",
              "\n",
              "    .dataframe thead th {\n",
              "        text-align: right;\n",
              "    }\n",
              "</style>\n",
              "<table border=\"1\" class=\"dataframe\">\n",
              "  <thead>\n",
              "    <tr style=\"text-align: right;\">\n",
              "      <th></th>\n",
              "      <th>Employee_ID</th>\n",
              "      <th>Name</th>\n",
              "      <th>GENDER</th>\n",
              "      <th>EDU_LVL</th>\n",
              "      <th>JOB_CATEGORY</th>\n",
              "      <th>AGE</th>\n",
              "      <th>Score</th>\n",
              "      <th>Phone Number</th>\n",
              "      <th>Domicile_Province</th>\n",
              "      <th>First_Day_Employment</th>\n",
              "    </tr>\n",
              "  </thead>\n",
              "  <tbody>\n",
              "    <tr>\n",
              "      <th>0</th>\n",
              "      <td>341</td>\n",
              "      <td>Darrin Sayre</td>\n",
              "      <td>F</td>\n",
              "      <td>S1</td>\n",
              "      <td>Staff</td>\n",
              "      <td>29 years, 9 month, 12 days</td>\n",
              "      <td>3.55</td>\n",
              "      <td>628315298115</td>\n",
              "      <td>Purwokerto</td>\n",
              "      <td>03-15-2016</td>\n",
              "    </tr>\n",
              "    <tr>\n",
              "      <th>1</th>\n",
              "      <td>342</td>\n",
              "      <td>Gary Zandusky</td>\n",
              "      <td>M</td>\n",
              "      <td>S2</td>\n",
              "      <td>Staff</td>\n",
              "      <td>24 years, 9 month, 7 days</td>\n",
              "      <td>3.47</td>\n",
              "      <td>85246794110</td>\n",
              "      <td>Purwakarta</td>\n",
              "      <td>02-21-2020</td>\n",
              "    </tr>\n",
              "    <tr>\n",
              "      <th>2</th>\n",
              "      <td>343</td>\n",
              "      <td>Phillina Ober</td>\n",
              "      <td>F</td>\n",
              "      <td>S2</td>\n",
              "      <td>Staff</td>\n",
              "      <td>33 years, 1 month, 3 days</td>\n",
              "      <td>3.7</td>\n",
              "      <td>85246860540</td>\n",
              "      <td>Yogyakarta</td>\n",
              "      <td>12/22/2011</td>\n",
              "    </tr>\n",
              "    <tr>\n",
              "      <th>3</th>\n",
              "      <td>344</td>\n",
              "      <td>Sung Shariari</td>\n",
              "      <td>M</td>\n",
              "      <td>S1</td>\n",
              "      <td>Staff</td>\n",
              "      <td>42 years, 2 month, 18 days</td>\n",
              "      <td>4.6</td>\n",
              "      <td>85246975220</td>\n",
              "      <td>DIY</td>\n",
              "      <td>09-26-2005</td>\n",
              "    </tr>\n",
              "    <tr>\n",
              "      <th>4</th>\n",
              "      <td>345</td>\n",
              "      <td>Maya Herman</td>\n",
              "      <td>M</td>\n",
              "      <td>S1</td>\n",
              "      <td>Functional Expert Band 2</td>\n",
              "      <td>28 years, 7 month, 4 days</td>\n",
              "      <td>3.11</td>\n",
              "      <td>85247092105</td>\n",
              "      <td>Depok</td>\n",
              "      <td>03-17-2015</td>\n",
              "    </tr>\n",
              "  </tbody>\n",
              "</table>\n",
              "</div>\n",
              "      <button class=\"colab-df-convert\" onclick=\"convertToInteractive('df-d2f0eddf-ac6f-4611-8e73-d71909c5a17c')\"\n",
              "              title=\"Convert this dataframe to an interactive table.\"\n",
              "              style=\"display:none;\">\n",
              "        \n",
              "  <svg xmlns=\"http://www.w3.org/2000/svg\" height=\"24px\"viewBox=\"0 0 24 24\"\n",
              "       width=\"24px\">\n",
              "    <path d=\"M0 0h24v24H0V0z\" fill=\"none\"/>\n",
              "    <path d=\"M18.56 5.44l.94 2.06.94-2.06 2.06-.94-2.06-.94-.94-2.06-.94 2.06-2.06.94zm-11 1L8.5 8.5l.94-2.06 2.06-.94-2.06-.94L8.5 2.5l-.94 2.06-2.06.94zm10 10l.94 2.06.94-2.06 2.06-.94-2.06-.94-.94-2.06-.94 2.06-2.06.94z\"/><path d=\"M17.41 7.96l-1.37-1.37c-.4-.4-.92-.59-1.43-.59-.52 0-1.04.2-1.43.59L10.3 9.45l-7.72 7.72c-.78.78-.78 2.05 0 2.83L4 21.41c.39.39.9.59 1.41.59.51 0 1.02-.2 1.41-.59l7.78-7.78 2.81-2.81c.8-.78.8-2.07 0-2.86zM5.41 20L4 18.59l7.72-7.72 1.47 1.35L5.41 20z\"/>\n",
              "  </svg>\n",
              "      </button>\n",
              "      \n",
              "  <style>\n",
              "    .colab-df-container {\n",
              "      display:flex;\n",
              "      flex-wrap:wrap;\n",
              "      gap: 12px;\n",
              "    }\n",
              "\n",
              "    .colab-df-convert {\n",
              "      background-color: #E8F0FE;\n",
              "      border: none;\n",
              "      border-radius: 50%;\n",
              "      cursor: pointer;\n",
              "      display: none;\n",
              "      fill: #1967D2;\n",
              "      height: 32px;\n",
              "      padding: 0 0 0 0;\n",
              "      width: 32px;\n",
              "    }\n",
              "\n",
              "    .colab-df-convert:hover {\n",
              "      background-color: #E2EBFA;\n",
              "      box-shadow: 0px 1px 2px rgba(60, 64, 67, 0.3), 0px 1px 3px 1px rgba(60, 64, 67, 0.15);\n",
              "      fill: #174EA6;\n",
              "    }\n",
              "\n",
              "    [theme=dark] .colab-df-convert {\n",
              "      background-color: #3B4455;\n",
              "      fill: #D2E3FC;\n",
              "    }\n",
              "\n",
              "    [theme=dark] .colab-df-convert:hover {\n",
              "      background-color: #434B5C;\n",
              "      box-shadow: 0px 1px 3px 1px rgba(0, 0, 0, 0.15);\n",
              "      filter: drop-shadow(0px 1px 2px rgba(0, 0, 0, 0.3));\n",
              "      fill: #FFFFFF;\n",
              "    }\n",
              "  </style>\n",
              "\n",
              "      <script>\n",
              "        const buttonEl =\n",
              "          document.querySelector('#df-d2f0eddf-ac6f-4611-8e73-d71909c5a17c button.colab-df-convert');\n",
              "        buttonEl.style.display =\n",
              "          google.colab.kernel.accessAllowed ? 'block' : 'none';\n",
              "\n",
              "        async function convertToInteractive(key) {\n",
              "          const element = document.querySelector('#df-d2f0eddf-ac6f-4611-8e73-d71909c5a17c');\n",
              "          const dataTable =\n",
              "            await google.colab.kernel.invokeFunction('convertToInteractive',\n",
              "                                                     [key], {});\n",
              "          if (!dataTable) return;\n",
              "\n",
              "          const docLinkHtml = 'Like what you see? Visit the ' +\n",
              "            '<a target=\"_blank\" href=https://colab.research.google.com/notebooks/data_table.ipynb>data table notebook</a>'\n",
              "            + ' to learn more about interactive tables.';\n",
              "          element.innerHTML = '';\n",
              "          dataTable['output_type'] = 'display_data';\n",
              "          await google.colab.output.renderOutput(dataTable, element);\n",
              "          const docLink = document.createElement('div');\n",
              "          docLink.innerHTML = docLinkHtml;\n",
              "          element.appendChild(docLink);\n",
              "        }\n",
              "      </script>\n",
              "    </div>\n",
              "  </div>\n",
              "  "
            ]
          },
          "metadata": {},
          "execution_count": 4
        }
      ]
    },
    {
      "cell_type": "code",
      "source": [
        "dataset2.info()"
      ],
      "metadata": {
        "colab": {
          "base_uri": "https://localhost:8080/"
        },
        "id": "oxTrYMT_7qHj",
        "outputId": "9e9ba19e-89de-4305-f2d9-ba72d6c69af6"
      },
      "execution_count": null,
      "outputs": [
        {
          "output_type": "stream",
          "name": "stdout",
          "text": [
            "<class 'pandas.core.frame.DataFrame'>\n",
            "RangeIndex: 292 entries, 0 to 291\n",
            "Data columns (total 10 columns):\n",
            " #   Column                Non-Null Count  Dtype \n",
            "---  ------                --------------  ----- \n",
            " 0   Employee_ID           292 non-null    int64 \n",
            " 1   Name                  292 non-null    object\n",
            " 2   GENDER                292 non-null    object\n",
            " 3   EDU_LVL               292 non-null    object\n",
            " 4   JOB_CATEGORY          292 non-null    object\n",
            " 5   AGE                   292 non-null    object\n",
            " 6   Score                 292 non-null    object\n",
            " 7   Phone Number          292 non-null    int64 \n",
            " 8   Domicile_Province     292 non-null    object\n",
            " 9   First_Day_Employment  292 non-null    object\n",
            "dtypes: int64(2), object(8)\n",
            "memory usage: 22.9+ KB\n"
          ]
        }
      ]
    },
    {
      "cell_type": "code",
      "source": [
        "dataset3 = pd.read_excel('drive/MyDrive/DattabotTechnicalTest_DataEngineer/dataset2022.xlsx', \"dataset3\")\n",
        "\n",
        "# check the dataset3\n",
        "dataset3.head(5)"
      ],
      "metadata": {
        "colab": {
          "base_uri": "https://localhost:8080/",
          "height": 206
        },
        "id": "u75RVoItY5Nx",
        "outputId": "be7017b2-e890-4c3a-a807-d3ef17c7764b"
      },
      "execution_count": null,
      "outputs": [
        {
          "output_type": "execute_result",
          "data": {
            "text/plain": [
              "   Employee_ID            Name GENDER EDU_LVL              JOB_CATEGORY  \\\n",
              "0          633  Michael Nguyen      M      S1                     Staff   \n",
              "1          634   Harold Pawlan      M      S1  Functional Expert Band 2   \n",
              "2          635     Jim Radford      M      S1                     Staff   \n",
              "3          636    Jamie Frazer      M      S1                     Staff   \n",
              "4          637    Chad McGuire   Male      S1                   Manager   \n",
              "\n",
              "                          AGE Score   Phone Number  Domicile_Province  \\\n",
              "0   26 years, 7 month, 8 days  3.73  6285247875220             Bekasi   \n",
              "1   37 years, 7 month, 6 days  3.96    85247990049  Tangerang Selatan   \n",
              "2   44 years, 6 month, 8 days  4.16     8524796457          Kalideres   \n",
              "3  28 years, 1 month, 10 days     4    85247990008           Sukabumi   \n",
              "4  38 years, 9 month, 16 days  3.24    85247910011               Bali   \n",
              "\n",
              "  First_Day_Employment  \n",
              "0           2017-01-20  \n",
              "1           11-15-2009  \n",
              "2           04/16/2000  \n",
              "3           10/16/2018  \n",
              "4           2008-02-18  "
            ],
            "text/html": [
              "\n",
              "  <div id=\"df-f4f24572-edd6-4848-8603-d326c4806e56\">\n",
              "    <div class=\"colab-df-container\">\n",
              "      <div>\n",
              "<style scoped>\n",
              "    .dataframe tbody tr th:only-of-type {\n",
              "        vertical-align: middle;\n",
              "    }\n",
              "\n",
              "    .dataframe tbody tr th {\n",
              "        vertical-align: top;\n",
              "    }\n",
              "\n",
              "    .dataframe thead th {\n",
              "        text-align: right;\n",
              "    }\n",
              "</style>\n",
              "<table border=\"1\" class=\"dataframe\">\n",
              "  <thead>\n",
              "    <tr style=\"text-align: right;\">\n",
              "      <th></th>\n",
              "      <th>Employee_ID</th>\n",
              "      <th>Name</th>\n",
              "      <th>GENDER</th>\n",
              "      <th>EDU_LVL</th>\n",
              "      <th>JOB_CATEGORY</th>\n",
              "      <th>AGE</th>\n",
              "      <th>Score</th>\n",
              "      <th>Phone Number</th>\n",
              "      <th>Domicile_Province</th>\n",
              "      <th>First_Day_Employment</th>\n",
              "    </tr>\n",
              "  </thead>\n",
              "  <tbody>\n",
              "    <tr>\n",
              "      <th>0</th>\n",
              "      <td>633</td>\n",
              "      <td>Michael Nguyen</td>\n",
              "      <td>M</td>\n",
              "      <td>S1</td>\n",
              "      <td>Staff</td>\n",
              "      <td>26 years, 7 month, 8 days</td>\n",
              "      <td>3.73</td>\n",
              "      <td>6285247875220</td>\n",
              "      <td>Bekasi</td>\n",
              "      <td>2017-01-20</td>\n",
              "    </tr>\n",
              "    <tr>\n",
              "      <th>1</th>\n",
              "      <td>634</td>\n",
              "      <td>Harold Pawlan</td>\n",
              "      <td>M</td>\n",
              "      <td>S1</td>\n",
              "      <td>Functional Expert Band 2</td>\n",
              "      <td>37 years, 7 month, 6 days</td>\n",
              "      <td>3.96</td>\n",
              "      <td>85247990049</td>\n",
              "      <td>Tangerang Selatan</td>\n",
              "      <td>11-15-2009</td>\n",
              "    </tr>\n",
              "    <tr>\n",
              "      <th>2</th>\n",
              "      <td>635</td>\n",
              "      <td>Jim Radford</td>\n",
              "      <td>M</td>\n",
              "      <td>S1</td>\n",
              "      <td>Staff</td>\n",
              "      <td>44 years, 6 month, 8 days</td>\n",
              "      <td>4.16</td>\n",
              "      <td>8524796457</td>\n",
              "      <td>Kalideres</td>\n",
              "      <td>04/16/2000</td>\n",
              "    </tr>\n",
              "    <tr>\n",
              "      <th>3</th>\n",
              "      <td>636</td>\n",
              "      <td>Jamie Frazer</td>\n",
              "      <td>M</td>\n",
              "      <td>S1</td>\n",
              "      <td>Staff</td>\n",
              "      <td>28 years, 1 month, 10 days</td>\n",
              "      <td>4</td>\n",
              "      <td>85247990008</td>\n",
              "      <td>Sukabumi</td>\n",
              "      <td>10/16/2018</td>\n",
              "    </tr>\n",
              "    <tr>\n",
              "      <th>4</th>\n",
              "      <td>637</td>\n",
              "      <td>Chad McGuire</td>\n",
              "      <td>Male</td>\n",
              "      <td>S1</td>\n",
              "      <td>Manager</td>\n",
              "      <td>38 years, 9 month, 16 days</td>\n",
              "      <td>3.24</td>\n",
              "      <td>85247910011</td>\n",
              "      <td>Bali</td>\n",
              "      <td>2008-02-18</td>\n",
              "    </tr>\n",
              "  </tbody>\n",
              "</table>\n",
              "</div>\n",
              "      <button class=\"colab-df-convert\" onclick=\"convertToInteractive('df-f4f24572-edd6-4848-8603-d326c4806e56')\"\n",
              "              title=\"Convert this dataframe to an interactive table.\"\n",
              "              style=\"display:none;\">\n",
              "        \n",
              "  <svg xmlns=\"http://www.w3.org/2000/svg\" height=\"24px\"viewBox=\"0 0 24 24\"\n",
              "       width=\"24px\">\n",
              "    <path d=\"M0 0h24v24H0V0z\" fill=\"none\"/>\n",
              "    <path d=\"M18.56 5.44l.94 2.06.94-2.06 2.06-.94-2.06-.94-.94-2.06-.94 2.06-2.06.94zm-11 1L8.5 8.5l.94-2.06 2.06-.94-2.06-.94L8.5 2.5l-.94 2.06-2.06.94zm10 10l.94 2.06.94-2.06 2.06-.94-2.06-.94-.94-2.06-.94 2.06-2.06.94z\"/><path d=\"M17.41 7.96l-1.37-1.37c-.4-.4-.92-.59-1.43-.59-.52 0-1.04.2-1.43.59L10.3 9.45l-7.72 7.72c-.78.78-.78 2.05 0 2.83L4 21.41c.39.39.9.59 1.41.59.51 0 1.02-.2 1.41-.59l7.78-7.78 2.81-2.81c.8-.78.8-2.07 0-2.86zM5.41 20L4 18.59l7.72-7.72 1.47 1.35L5.41 20z\"/>\n",
              "  </svg>\n",
              "      </button>\n",
              "      \n",
              "  <style>\n",
              "    .colab-df-container {\n",
              "      display:flex;\n",
              "      flex-wrap:wrap;\n",
              "      gap: 12px;\n",
              "    }\n",
              "\n",
              "    .colab-df-convert {\n",
              "      background-color: #E8F0FE;\n",
              "      border: none;\n",
              "      border-radius: 50%;\n",
              "      cursor: pointer;\n",
              "      display: none;\n",
              "      fill: #1967D2;\n",
              "      height: 32px;\n",
              "      padding: 0 0 0 0;\n",
              "      width: 32px;\n",
              "    }\n",
              "\n",
              "    .colab-df-convert:hover {\n",
              "      background-color: #E2EBFA;\n",
              "      box-shadow: 0px 1px 2px rgba(60, 64, 67, 0.3), 0px 1px 3px 1px rgba(60, 64, 67, 0.15);\n",
              "      fill: #174EA6;\n",
              "    }\n",
              "\n",
              "    [theme=dark] .colab-df-convert {\n",
              "      background-color: #3B4455;\n",
              "      fill: #D2E3FC;\n",
              "    }\n",
              "\n",
              "    [theme=dark] .colab-df-convert:hover {\n",
              "      background-color: #434B5C;\n",
              "      box-shadow: 0px 1px 3px 1px rgba(0, 0, 0, 0.15);\n",
              "      filter: drop-shadow(0px 1px 2px rgba(0, 0, 0, 0.3));\n",
              "      fill: #FFFFFF;\n",
              "    }\n",
              "  </style>\n",
              "\n",
              "      <script>\n",
              "        const buttonEl =\n",
              "          document.querySelector('#df-f4f24572-edd6-4848-8603-d326c4806e56 button.colab-df-convert');\n",
              "        buttonEl.style.display =\n",
              "          google.colab.kernel.accessAllowed ? 'block' : 'none';\n",
              "\n",
              "        async function convertToInteractive(key) {\n",
              "          const element = document.querySelector('#df-f4f24572-edd6-4848-8603-d326c4806e56');\n",
              "          const dataTable =\n",
              "            await google.colab.kernel.invokeFunction('convertToInteractive',\n",
              "                                                     [key], {});\n",
              "          if (!dataTable) return;\n",
              "\n",
              "          const docLinkHtml = 'Like what you see? Visit the ' +\n",
              "            '<a target=\"_blank\" href=https://colab.research.google.com/notebooks/data_table.ipynb>data table notebook</a>'\n",
              "            + ' to learn more about interactive tables.';\n",
              "          element.innerHTML = '';\n",
              "          dataTable['output_type'] = 'display_data';\n",
              "          await google.colab.output.renderOutput(dataTable, element);\n",
              "          const docLink = document.createElement('div');\n",
              "          docLink.innerHTML = docLinkHtml;\n",
              "          element.appendChild(docLink);\n",
              "        }\n",
              "      </script>\n",
              "    </div>\n",
              "  </div>\n",
              "  "
            ]
          },
          "metadata": {},
          "execution_count": 6
        }
      ]
    },
    {
      "cell_type": "code",
      "source": [
        "dataset3.info()"
      ],
      "metadata": {
        "colab": {
          "base_uri": "https://localhost:8080/"
        },
        "id": "RsGL_TaS7vJ9",
        "outputId": "fa037586-a1a8-4859-97e6-b56adce2b5b2"
      },
      "execution_count": null,
      "outputs": [
        {
          "output_type": "stream",
          "name": "stdout",
          "text": [
            "<class 'pandas.core.frame.DataFrame'>\n",
            "RangeIndex: 298 entries, 0 to 297\n",
            "Data columns (total 10 columns):\n",
            " #   Column                Non-Null Count  Dtype \n",
            "---  ------                --------------  ----- \n",
            " 0   Employee_ID           298 non-null    int64 \n",
            " 1   Name                  298 non-null    object\n",
            " 2   GENDER                298 non-null    object\n",
            " 3   EDU_LVL               298 non-null    object\n",
            " 4   JOB_CATEGORY          298 non-null    object\n",
            " 5   AGE                   298 non-null    object\n",
            " 6   Score                 295 non-null    object\n",
            " 7   Phone Number          298 non-null    int64 \n",
            " 8   Domicile_Province     298 non-null    object\n",
            " 9   First_Day_Employment  298 non-null    object\n",
            "dtypes: int64(2), object(8)\n",
            "memory usage: 23.4+ KB\n"
          ]
        }
      ]
    },
    {
      "cell_type": "markdown",
      "source": [
        "### Ensure dataset1, dataset2, and dataset3 have an \"Employee_ID\" column that contains a unique value before merging."
      ],
      "metadata": {
        "id": "UQ4lCo9k805i"
      }
    },
    {
      "cell_type": "code",
      "source": [
        "duplicated_rows1 = dataset1.duplicated(subset='Employee_ID')\n",
        "duplicated_rows2 = dataset2.duplicated(subset='Employee_ID')\n",
        "duplicated_rows3 = dataset3.duplicated(subset='Employee_ID')\n",
        "\n",
        "print(\"Jumlah duplikat dalam dataset1:\", duplicated_rows1.sum())\n",
        "print(\"Jumlah duplikat dalam dataset2:\", duplicated_rows2.sum())\n",
        "print(\"Jumlah duplikat dalam dataset3:\", duplicated_rows3.sum())"
      ],
      "metadata": {
        "colab": {
          "base_uri": "https://localhost:8080/"
        },
        "id": "0WS6jb9J8_i7",
        "outputId": "ffeaf012-a90f-4192-cf69-eae6077a23d6"
      },
      "execution_count": null,
      "outputs": [
        {
          "output_type": "stream",
          "name": "stdout",
          "text": [
            "Jumlah duplikat dalam dataset1: 0\n",
            "Jumlah duplikat dalam dataset2: 0\n",
            "Jumlah duplikat dalam dataset3: 0\n"
          ]
        }
      ]
    },
    {
      "cell_type": "markdown",
      "source": [
        "### Merge dataset1, dataset2, and dataset3 to dataset with key 'Employee_ID'"
      ],
      "metadata": {
        "id": "Gv8jGiejYyZQ"
      }
    },
    {
      "cell_type": "code",
      "source": [
        "dataset = pd.concat([dataset1, dataset2, dataset3], ignore_index=True)\n",
        "dataset.head(5)"
      ],
      "metadata": {
        "colab": {
          "base_uri": "https://localhost:8080/",
          "height": 206
        },
        "id": "c52Wormg7MLW",
        "outputId": "9328eb82-f44c-4d84-8685-30c4404f757f"
      },
      "execution_count": null,
      "outputs": [
        {
          "output_type": "execute_result",
          "data": {
            "text/plain": [
              "   Employee_ID             Name GENDER EDU_LVL              JOB_CATEGORY  \\\n",
              "0            1      Claire Gute      M      S1  Functional Expert Band 2   \n",
              "1            2  Darrin Van Huff      M      S2                   Manager   \n",
              "2            3   Sean O'Donnell   Male    SLTA                     Staff   \n",
              "3            4  Brosina Hoffman      M      S2                   Manager   \n",
              "4            5     Andrew Allen      F      S1                   Trainee   \n",
              "\n",
              "                          AGE  Score  Phone Number Domicile_Province  \\\n",
              "0  37 years, 2 month, 11 days   3.98  628315242420       DKI Jakarta   \n",
              "1  42 years, 3 month, 14 days   4.15   85246790036           Jakarta   \n",
              "2  48 years, 4 month, 25 days   3.98   85246833311               JKT   \n",
              "3   50 years, 7 month, 2 days   3.23   85246990032         West Java   \n",
              "4   20 years, 4 month, 8 days   -      85247028027        Jawa Barat   \n",
              "\n",
              "  First_Day_Employment  \n",
              "0           2006-02-16  \n",
              "1           12-20-2002  \n",
              "2           1997-08-20  \n",
              "3           06/19/1993  \n",
              "4           06-25-2020  "
            ],
            "text/html": [
              "\n",
              "  <div id=\"df-7df88069-eb2e-41c4-be35-b234dc88b96b\">\n",
              "    <div class=\"colab-df-container\">\n",
              "      <div>\n",
              "<style scoped>\n",
              "    .dataframe tbody tr th:only-of-type {\n",
              "        vertical-align: middle;\n",
              "    }\n",
              "\n",
              "    .dataframe tbody tr th {\n",
              "        vertical-align: top;\n",
              "    }\n",
              "\n",
              "    .dataframe thead th {\n",
              "        text-align: right;\n",
              "    }\n",
              "</style>\n",
              "<table border=\"1\" class=\"dataframe\">\n",
              "  <thead>\n",
              "    <tr style=\"text-align: right;\">\n",
              "      <th></th>\n",
              "      <th>Employee_ID</th>\n",
              "      <th>Name</th>\n",
              "      <th>GENDER</th>\n",
              "      <th>EDU_LVL</th>\n",
              "      <th>JOB_CATEGORY</th>\n",
              "      <th>AGE</th>\n",
              "      <th>Score</th>\n",
              "      <th>Phone Number</th>\n",
              "      <th>Domicile_Province</th>\n",
              "      <th>First_Day_Employment</th>\n",
              "    </tr>\n",
              "  </thead>\n",
              "  <tbody>\n",
              "    <tr>\n",
              "      <th>0</th>\n",
              "      <td>1</td>\n",
              "      <td>Claire Gute</td>\n",
              "      <td>M</td>\n",
              "      <td>S1</td>\n",
              "      <td>Functional Expert Band 2</td>\n",
              "      <td>37 years, 2 month, 11 days</td>\n",
              "      <td>3.98</td>\n",
              "      <td>628315242420</td>\n",
              "      <td>DKI Jakarta</td>\n",
              "      <td>2006-02-16</td>\n",
              "    </tr>\n",
              "    <tr>\n",
              "      <th>1</th>\n",
              "      <td>2</td>\n",
              "      <td>Darrin Van Huff</td>\n",
              "      <td>M</td>\n",
              "      <td>S2</td>\n",
              "      <td>Manager</td>\n",
              "      <td>42 years, 3 month, 14 days</td>\n",
              "      <td>4.15</td>\n",
              "      <td>85246790036</td>\n",
              "      <td>Jakarta</td>\n",
              "      <td>12-20-2002</td>\n",
              "    </tr>\n",
              "    <tr>\n",
              "      <th>2</th>\n",
              "      <td>3</td>\n",
              "      <td>Sean O'Donnell</td>\n",
              "      <td>Male</td>\n",
              "      <td>SLTA</td>\n",
              "      <td>Staff</td>\n",
              "      <td>48 years, 4 month, 25 days</td>\n",
              "      <td>3.98</td>\n",
              "      <td>85246833311</td>\n",
              "      <td>JKT</td>\n",
              "      <td>1997-08-20</td>\n",
              "    </tr>\n",
              "    <tr>\n",
              "      <th>3</th>\n",
              "      <td>4</td>\n",
              "      <td>Brosina Hoffman</td>\n",
              "      <td>M</td>\n",
              "      <td>S2</td>\n",
              "      <td>Manager</td>\n",
              "      <td>50 years, 7 month, 2 days</td>\n",
              "      <td>3.23</td>\n",
              "      <td>85246990032</td>\n",
              "      <td>West Java</td>\n",
              "      <td>06/19/1993</td>\n",
              "    </tr>\n",
              "    <tr>\n",
              "      <th>4</th>\n",
              "      <td>5</td>\n",
              "      <td>Andrew Allen</td>\n",
              "      <td>F</td>\n",
              "      <td>S1</td>\n",
              "      <td>Trainee</td>\n",
              "      <td>20 years, 4 month, 8 days</td>\n",
              "      <td>-</td>\n",
              "      <td>85247028027</td>\n",
              "      <td>Jawa Barat</td>\n",
              "      <td>06-25-2020</td>\n",
              "    </tr>\n",
              "  </tbody>\n",
              "</table>\n",
              "</div>\n",
              "      <button class=\"colab-df-convert\" onclick=\"convertToInteractive('df-7df88069-eb2e-41c4-be35-b234dc88b96b')\"\n",
              "              title=\"Convert this dataframe to an interactive table.\"\n",
              "              style=\"display:none;\">\n",
              "        \n",
              "  <svg xmlns=\"http://www.w3.org/2000/svg\" height=\"24px\"viewBox=\"0 0 24 24\"\n",
              "       width=\"24px\">\n",
              "    <path d=\"M0 0h24v24H0V0z\" fill=\"none\"/>\n",
              "    <path d=\"M18.56 5.44l.94 2.06.94-2.06 2.06-.94-2.06-.94-.94-2.06-.94 2.06-2.06.94zm-11 1L8.5 8.5l.94-2.06 2.06-.94-2.06-.94L8.5 2.5l-.94 2.06-2.06.94zm10 10l.94 2.06.94-2.06 2.06-.94-2.06-.94-.94-2.06-.94 2.06-2.06.94z\"/><path d=\"M17.41 7.96l-1.37-1.37c-.4-.4-.92-.59-1.43-.59-.52 0-1.04.2-1.43.59L10.3 9.45l-7.72 7.72c-.78.78-.78 2.05 0 2.83L4 21.41c.39.39.9.59 1.41.59.51 0 1.02-.2 1.41-.59l7.78-7.78 2.81-2.81c.8-.78.8-2.07 0-2.86zM5.41 20L4 18.59l7.72-7.72 1.47 1.35L5.41 20z\"/>\n",
              "  </svg>\n",
              "      </button>\n",
              "      \n",
              "  <style>\n",
              "    .colab-df-container {\n",
              "      display:flex;\n",
              "      flex-wrap:wrap;\n",
              "      gap: 12px;\n",
              "    }\n",
              "\n",
              "    .colab-df-convert {\n",
              "      background-color: #E8F0FE;\n",
              "      border: none;\n",
              "      border-radius: 50%;\n",
              "      cursor: pointer;\n",
              "      display: none;\n",
              "      fill: #1967D2;\n",
              "      height: 32px;\n",
              "      padding: 0 0 0 0;\n",
              "      width: 32px;\n",
              "    }\n",
              "\n",
              "    .colab-df-convert:hover {\n",
              "      background-color: #E2EBFA;\n",
              "      box-shadow: 0px 1px 2px rgba(60, 64, 67, 0.3), 0px 1px 3px 1px rgba(60, 64, 67, 0.15);\n",
              "      fill: #174EA6;\n",
              "    }\n",
              "\n",
              "    [theme=dark] .colab-df-convert {\n",
              "      background-color: #3B4455;\n",
              "      fill: #D2E3FC;\n",
              "    }\n",
              "\n",
              "    [theme=dark] .colab-df-convert:hover {\n",
              "      background-color: #434B5C;\n",
              "      box-shadow: 0px 1px 3px 1px rgba(0, 0, 0, 0.15);\n",
              "      filter: drop-shadow(0px 1px 2px rgba(0, 0, 0, 0.3));\n",
              "      fill: #FFFFFF;\n",
              "    }\n",
              "  </style>\n",
              "\n",
              "      <script>\n",
              "        const buttonEl =\n",
              "          document.querySelector('#df-7df88069-eb2e-41c4-be35-b234dc88b96b button.colab-df-convert');\n",
              "        buttonEl.style.display =\n",
              "          google.colab.kernel.accessAllowed ? 'block' : 'none';\n",
              "\n",
              "        async function convertToInteractive(key) {\n",
              "          const element = document.querySelector('#df-7df88069-eb2e-41c4-be35-b234dc88b96b');\n",
              "          const dataTable =\n",
              "            await google.colab.kernel.invokeFunction('convertToInteractive',\n",
              "                                                     [key], {});\n",
              "          if (!dataTable) return;\n",
              "\n",
              "          const docLinkHtml = 'Like what you see? Visit the ' +\n",
              "            '<a target=\"_blank\" href=https://colab.research.google.com/notebooks/data_table.ipynb>data table notebook</a>'\n",
              "            + ' to learn more about interactive tables.';\n",
              "          element.innerHTML = '';\n",
              "          dataTable['output_type'] = 'display_data';\n",
              "          await google.colab.output.renderOutput(dataTable, element);\n",
              "          const docLink = document.createElement('div');\n",
              "          docLink.innerHTML = docLinkHtml;\n",
              "          element.appendChild(docLink);\n",
              "        }\n",
              "      </script>\n",
              "    </div>\n",
              "  </div>\n",
              "  "
            ]
          },
          "metadata": {},
          "execution_count": 9
        }
      ]
    },
    {
      "cell_type": "code",
      "source": [
        "dataset.info()"
      ],
      "metadata": {
        "colab": {
          "base_uri": "https://localhost:8080/"
        },
        "id": "TfGtEcLu7ySq",
        "outputId": "3b284d62-7495-4b80-e57f-82bd1eb5e42e"
      },
      "execution_count": null,
      "outputs": [
        {
          "output_type": "stream",
          "name": "stdout",
          "text": [
            "<class 'pandas.core.frame.DataFrame'>\n",
            "RangeIndex: 930 entries, 0 to 929\n",
            "Data columns (total 10 columns):\n",
            " #   Column                Non-Null Count  Dtype \n",
            "---  ------                --------------  ----- \n",
            " 0   Employee_ID           930 non-null    int64 \n",
            " 1   Name                  930 non-null    object\n",
            " 2   GENDER                930 non-null    object\n",
            " 3   EDU_LVL               930 non-null    object\n",
            " 4   JOB_CATEGORY          930 non-null    object\n",
            " 5   AGE                   930 non-null    object\n",
            " 6   Score                 920 non-null    object\n",
            " 7   Phone Number          930 non-null    int64 \n",
            " 8   Domicile_Province     930 non-null    object\n",
            " 9   First_Day_Employment  930 non-null    object\n",
            "dtypes: int64(2), object(8)\n",
            "memory usage: 72.8+ KB\n"
          ]
        }
      ]
    },
    {
      "cell_type": "markdown",
      "source": [
        "## Cleaning dataset"
      ],
      "metadata": {
        "id": "x5qRXV5H-gBE"
      }
    },
    {
      "cell_type": "markdown",
      "source": [
        "### Check data before cleaning"
      ],
      "metadata": {
        "id": "nrerG9jLTpMv"
      }
    },
    {
      "cell_type": "code",
      "source": [
        "dataset.head(20)"
      ],
      "metadata": {
        "colab": {
          "base_uri": "https://localhost:8080/",
          "height": 677
        },
        "id": "RJolAziFTvEx",
        "outputId": "ec4bfdaa-cf01-4e26-fdf7-6b1152832f0f"
      },
      "execution_count": null,
      "outputs": [
        {
          "output_type": "execute_result",
          "data": {
            "text/plain": [
              "    Employee_ID                Name     GENDER EDU_LVL  \\\n",
              "0             1         Claire Gute          M      S1   \n",
              "1             2     Darrin Van Huff          M      S2   \n",
              "2             3      Sean O'Donnell       Male    SLTA   \n",
              "3             4     Brosina Hoffman          M      S2   \n",
              "4             5        Andrew Allen          F      S1   \n",
              "5             6        Irene Maddox          M      S1   \n",
              "6             7       Harold Pawlan       Pria      S1   \n",
              "7             8           Pete Kriz        Man      S1   \n",
              "8             9     Alejandro Grove          M      S1   \n",
              "9            10  Zuschuss Donatelli          F      S1   \n",
              "10           11           Ken Black          F      D3   \n",
              "11           12     Sandra Flanagan  Laki-laki      S1   \n",
              "12           13         Emily Burns          M      S1   \n",
              "13           14       Eric Hoffmann          F      S1   \n",
              "14           15     Tracy Blumstein          F      S1   \n",
              "15           16       Matt Abelman%          M      D3   \n",
              "16           17         Gene Hale,,        Man      S1   \n",
              "17           18       Steve Nguyen!       Pria      S1   \n",
              "18           19      Linda Cazamias          F      S1   \n",
              "19           20        Ruben Ausman          M      S2   \n",
              "\n",
              "                JOB_CATEGORY                         AGE  Score  \\\n",
              "0   Functional Expert Band 2  37 years, 2 month, 11 days   3.98   \n",
              "1                    Manager  42 years, 3 month, 14 days   4.15   \n",
              "2                      Staff  48 years, 4 month, 25 days   3.98   \n",
              "3                    Manager   50 years, 7 month, 2 days   3.23   \n",
              "4                    Trainee   20 years, 4 month, 8 days   -      \n",
              "5                 Supervisor  37 years, 1 month, 17 days   4.66   \n",
              "6        Senior Staff Band 2   43 years, 1 month, 2 days   4.71   \n",
              "7                      Staff  27 years, 8 month, 14 days   4.05   \n",
              "8                      Staff  26 years, 1 month, 14 days   4.86   \n",
              "9                      Staff   32 years, 4 month, 1 days   3.76   \n",
              "10                     Staff  41 years, 3 month, 24 days   3.42   \n",
              "11                Supervisor  40 years, 7 month, 22 days   4.07   \n",
              "12                Supervisor  29 years, 5 month, 15 days   4.29   \n",
              "13  Functional Expert Band 2   32 years, 2 month, 6 days      4   \n",
              "14                     Staff  31 years, 8 month, 24 days   4.07   \n",
              "15                   Manager  40 years, 6 month, 21 days   3.83   \n",
              "16  Functional Expert Band 2   44 years, 2 month, 9 days   4.26   \n",
              "17                Supervisor  35 years, 7 month, 12 days    3.9   \n",
              "18                     Staff  24 years, 9 month, 19 days   3.98   \n",
              "19                   Manager  34 years, 8 month, 10 days   4.14   \n",
              "\n",
              "     Phone Number  Domicile_Province First_Day_Employment  \n",
              "0    628315242420        DKI Jakarta           2006-02-16  \n",
              "1     85246790036            Jakarta           12-20-2002  \n",
              "2     85246833311                JKT           1997-08-20  \n",
              "3     85246990032          West Java           06/19/1993  \n",
              "4     85247028027         Jawa Barat           06-25-2020  \n",
              "5     85247198103              Jabar           02-15-2006  \n",
              "6   6285247276106            Bandung           2003-03-22  \n",
              "7   6285247353711    Jakarta Selatan           2020-06-19  \n",
              "8   6285247484084      South Jakarta           02/24/2020  \n",
              "9   6285247594109       East Jakarta           10-25-2015  \n",
              "10  6285247668025         Purwokerto           06/23/2005  \n",
              "11  6285247719140         Purwakarta           2005-07-17  \n",
              "12  6285247884057         Yogyakarta           03/26/2015  \n",
              "13    85247990049                DIY           01/20/2011  \n",
              "14    85247919140              Depok           09-16-2015  \n",
              "15    85247977095              Bogor           05-26-2003  \n",
              "16    85247975080             Bekasi           11-19-2002  \n",
              "17    85247977041  Tangerang Selatan           06-26-2010  \n",
              "18    85247960540          Kalideres           2020-12-21  \n",
              "19    85247990049           Sukabumi           2012-03-20  "
            ],
            "text/html": [
              "\n",
              "  <div id=\"df-a5f5ca1c-36ee-43aa-b73b-95224c9ea276\">\n",
              "    <div class=\"colab-df-container\">\n",
              "      <div>\n",
              "<style scoped>\n",
              "    .dataframe tbody tr th:only-of-type {\n",
              "        vertical-align: middle;\n",
              "    }\n",
              "\n",
              "    .dataframe tbody tr th {\n",
              "        vertical-align: top;\n",
              "    }\n",
              "\n",
              "    .dataframe thead th {\n",
              "        text-align: right;\n",
              "    }\n",
              "</style>\n",
              "<table border=\"1\" class=\"dataframe\">\n",
              "  <thead>\n",
              "    <tr style=\"text-align: right;\">\n",
              "      <th></th>\n",
              "      <th>Employee_ID</th>\n",
              "      <th>Name</th>\n",
              "      <th>GENDER</th>\n",
              "      <th>EDU_LVL</th>\n",
              "      <th>JOB_CATEGORY</th>\n",
              "      <th>AGE</th>\n",
              "      <th>Score</th>\n",
              "      <th>Phone Number</th>\n",
              "      <th>Domicile_Province</th>\n",
              "      <th>First_Day_Employment</th>\n",
              "    </tr>\n",
              "  </thead>\n",
              "  <tbody>\n",
              "    <tr>\n",
              "      <th>0</th>\n",
              "      <td>1</td>\n",
              "      <td>Claire Gute</td>\n",
              "      <td>M</td>\n",
              "      <td>S1</td>\n",
              "      <td>Functional Expert Band 2</td>\n",
              "      <td>37 years, 2 month, 11 days</td>\n",
              "      <td>3.98</td>\n",
              "      <td>628315242420</td>\n",
              "      <td>DKI Jakarta</td>\n",
              "      <td>2006-02-16</td>\n",
              "    </tr>\n",
              "    <tr>\n",
              "      <th>1</th>\n",
              "      <td>2</td>\n",
              "      <td>Darrin Van Huff</td>\n",
              "      <td>M</td>\n",
              "      <td>S2</td>\n",
              "      <td>Manager</td>\n",
              "      <td>42 years, 3 month, 14 days</td>\n",
              "      <td>4.15</td>\n",
              "      <td>85246790036</td>\n",
              "      <td>Jakarta</td>\n",
              "      <td>12-20-2002</td>\n",
              "    </tr>\n",
              "    <tr>\n",
              "      <th>2</th>\n",
              "      <td>3</td>\n",
              "      <td>Sean O'Donnell</td>\n",
              "      <td>Male</td>\n",
              "      <td>SLTA</td>\n",
              "      <td>Staff</td>\n",
              "      <td>48 years, 4 month, 25 days</td>\n",
              "      <td>3.98</td>\n",
              "      <td>85246833311</td>\n",
              "      <td>JKT</td>\n",
              "      <td>1997-08-20</td>\n",
              "    </tr>\n",
              "    <tr>\n",
              "      <th>3</th>\n",
              "      <td>4</td>\n",
              "      <td>Brosina Hoffman</td>\n",
              "      <td>M</td>\n",
              "      <td>S2</td>\n",
              "      <td>Manager</td>\n",
              "      <td>50 years, 7 month, 2 days</td>\n",
              "      <td>3.23</td>\n",
              "      <td>85246990032</td>\n",
              "      <td>West Java</td>\n",
              "      <td>06/19/1993</td>\n",
              "    </tr>\n",
              "    <tr>\n",
              "      <th>4</th>\n",
              "      <td>5</td>\n",
              "      <td>Andrew Allen</td>\n",
              "      <td>F</td>\n",
              "      <td>S1</td>\n",
              "      <td>Trainee</td>\n",
              "      <td>20 years, 4 month, 8 days</td>\n",
              "      <td>-</td>\n",
              "      <td>85247028027</td>\n",
              "      <td>Jawa Barat</td>\n",
              "      <td>06-25-2020</td>\n",
              "    </tr>\n",
              "    <tr>\n",
              "      <th>5</th>\n",
              "      <td>6</td>\n",
              "      <td>Irene Maddox</td>\n",
              "      <td>M</td>\n",
              "      <td>S1</td>\n",
              "      <td>Supervisor</td>\n",
              "      <td>37 years, 1 month, 17 days</td>\n",
              "      <td>4.66</td>\n",
              "      <td>85247198103</td>\n",
              "      <td>Jabar</td>\n",
              "      <td>02-15-2006</td>\n",
              "    </tr>\n",
              "    <tr>\n",
              "      <th>6</th>\n",
              "      <td>7</td>\n",
              "      <td>Harold Pawlan</td>\n",
              "      <td>Pria</td>\n",
              "      <td>S1</td>\n",
              "      <td>Senior Staff Band 2</td>\n",
              "      <td>43 years, 1 month, 2 days</td>\n",
              "      <td>4.71</td>\n",
              "      <td>6285247276106</td>\n",
              "      <td>Bandung</td>\n",
              "      <td>2003-03-22</td>\n",
              "    </tr>\n",
              "    <tr>\n",
              "      <th>7</th>\n",
              "      <td>8</td>\n",
              "      <td>Pete Kriz</td>\n",
              "      <td>Man</td>\n",
              "      <td>S1</td>\n",
              "      <td>Staff</td>\n",
              "      <td>27 years, 8 month, 14 days</td>\n",
              "      <td>4.05</td>\n",
              "      <td>6285247353711</td>\n",
              "      <td>Jakarta Selatan</td>\n",
              "      <td>2020-06-19</td>\n",
              "    </tr>\n",
              "    <tr>\n",
              "      <th>8</th>\n",
              "      <td>9</td>\n",
              "      <td>Alejandro Grove</td>\n",
              "      <td>M</td>\n",
              "      <td>S1</td>\n",
              "      <td>Staff</td>\n",
              "      <td>26 years, 1 month, 14 days</td>\n",
              "      <td>4.86</td>\n",
              "      <td>6285247484084</td>\n",
              "      <td>South Jakarta</td>\n",
              "      <td>02/24/2020</td>\n",
              "    </tr>\n",
              "    <tr>\n",
              "      <th>9</th>\n",
              "      <td>10</td>\n",
              "      <td>Zuschuss Donatelli</td>\n",
              "      <td>F</td>\n",
              "      <td>S1</td>\n",
              "      <td>Staff</td>\n",
              "      <td>32 years, 4 month, 1 days</td>\n",
              "      <td>3.76</td>\n",
              "      <td>6285247594109</td>\n",
              "      <td>East Jakarta</td>\n",
              "      <td>10-25-2015</td>\n",
              "    </tr>\n",
              "    <tr>\n",
              "      <th>10</th>\n",
              "      <td>11</td>\n",
              "      <td>Ken Black</td>\n",
              "      <td>F</td>\n",
              "      <td>D3</td>\n",
              "      <td>Staff</td>\n",
              "      <td>41 years, 3 month, 24 days</td>\n",
              "      <td>3.42</td>\n",
              "      <td>6285247668025</td>\n",
              "      <td>Purwokerto</td>\n",
              "      <td>06/23/2005</td>\n",
              "    </tr>\n",
              "    <tr>\n",
              "      <th>11</th>\n",
              "      <td>12</td>\n",
              "      <td>Sandra Flanagan</td>\n",
              "      <td>Laki-laki</td>\n",
              "      <td>S1</td>\n",
              "      <td>Supervisor</td>\n",
              "      <td>40 years, 7 month, 22 days</td>\n",
              "      <td>4.07</td>\n",
              "      <td>6285247719140</td>\n",
              "      <td>Purwakarta</td>\n",
              "      <td>2005-07-17</td>\n",
              "    </tr>\n",
              "    <tr>\n",
              "      <th>12</th>\n",
              "      <td>13</td>\n",
              "      <td>Emily Burns</td>\n",
              "      <td>M</td>\n",
              "      <td>S1</td>\n",
              "      <td>Supervisor</td>\n",
              "      <td>29 years, 5 month, 15 days</td>\n",
              "      <td>4.29</td>\n",
              "      <td>6285247884057</td>\n",
              "      <td>Yogyakarta</td>\n",
              "      <td>03/26/2015</td>\n",
              "    </tr>\n",
              "    <tr>\n",
              "      <th>13</th>\n",
              "      <td>14</td>\n",
              "      <td>Eric Hoffmann</td>\n",
              "      <td>F</td>\n",
              "      <td>S1</td>\n",
              "      <td>Functional Expert Band 2</td>\n",
              "      <td>32 years, 2 month, 6 days</td>\n",
              "      <td>4</td>\n",
              "      <td>85247990049</td>\n",
              "      <td>DIY</td>\n",
              "      <td>01/20/2011</td>\n",
              "    </tr>\n",
              "    <tr>\n",
              "      <th>14</th>\n",
              "      <td>15</td>\n",
              "      <td>Tracy Blumstein</td>\n",
              "      <td>F</td>\n",
              "      <td>S1</td>\n",
              "      <td>Staff</td>\n",
              "      <td>31 years, 8 month, 24 days</td>\n",
              "      <td>4.07</td>\n",
              "      <td>85247919140</td>\n",
              "      <td>Depok</td>\n",
              "      <td>09-16-2015</td>\n",
              "    </tr>\n",
              "    <tr>\n",
              "      <th>15</th>\n",
              "      <td>16</td>\n",
              "      <td>Matt Abelman%</td>\n",
              "      <td>M</td>\n",
              "      <td>D3</td>\n",
              "      <td>Manager</td>\n",
              "      <td>40 years, 6 month, 21 days</td>\n",
              "      <td>3.83</td>\n",
              "      <td>85247977095</td>\n",
              "      <td>Bogor</td>\n",
              "      <td>05-26-2003</td>\n",
              "    </tr>\n",
              "    <tr>\n",
              "      <th>16</th>\n",
              "      <td>17</td>\n",
              "      <td>Gene Hale,,</td>\n",
              "      <td>Man</td>\n",
              "      <td>S1</td>\n",
              "      <td>Functional Expert Band 2</td>\n",
              "      <td>44 years, 2 month, 9 days</td>\n",
              "      <td>4.26</td>\n",
              "      <td>85247975080</td>\n",
              "      <td>Bekasi</td>\n",
              "      <td>11-19-2002</td>\n",
              "    </tr>\n",
              "    <tr>\n",
              "      <th>17</th>\n",
              "      <td>18</td>\n",
              "      <td>Steve Nguyen!</td>\n",
              "      <td>Pria</td>\n",
              "      <td>S1</td>\n",
              "      <td>Supervisor</td>\n",
              "      <td>35 years, 7 month, 12 days</td>\n",
              "      <td>3.9</td>\n",
              "      <td>85247977041</td>\n",
              "      <td>Tangerang Selatan</td>\n",
              "      <td>06-26-2010</td>\n",
              "    </tr>\n",
              "    <tr>\n",
              "      <th>18</th>\n",
              "      <td>19</td>\n",
              "      <td>Linda Cazamias</td>\n",
              "      <td>F</td>\n",
              "      <td>S1</td>\n",
              "      <td>Staff</td>\n",
              "      <td>24 years, 9 month, 19 days</td>\n",
              "      <td>3.98</td>\n",
              "      <td>85247960540</td>\n",
              "      <td>Kalideres</td>\n",
              "      <td>2020-12-21</td>\n",
              "    </tr>\n",
              "    <tr>\n",
              "      <th>19</th>\n",
              "      <td>20</td>\n",
              "      <td>Ruben Ausman</td>\n",
              "      <td>M</td>\n",
              "      <td>S2</td>\n",
              "      <td>Manager</td>\n",
              "      <td>34 years, 8 month, 10 days</td>\n",
              "      <td>4.14</td>\n",
              "      <td>85247990049</td>\n",
              "      <td>Sukabumi</td>\n",
              "      <td>2012-03-20</td>\n",
              "    </tr>\n",
              "  </tbody>\n",
              "</table>\n",
              "</div>\n",
              "      <button class=\"colab-df-convert\" onclick=\"convertToInteractive('df-a5f5ca1c-36ee-43aa-b73b-95224c9ea276')\"\n",
              "              title=\"Convert this dataframe to an interactive table.\"\n",
              "              style=\"display:none;\">\n",
              "        \n",
              "  <svg xmlns=\"http://www.w3.org/2000/svg\" height=\"24px\"viewBox=\"0 0 24 24\"\n",
              "       width=\"24px\">\n",
              "    <path d=\"M0 0h24v24H0V0z\" fill=\"none\"/>\n",
              "    <path d=\"M18.56 5.44l.94 2.06.94-2.06 2.06-.94-2.06-.94-.94-2.06-.94 2.06-2.06.94zm-11 1L8.5 8.5l.94-2.06 2.06-.94-2.06-.94L8.5 2.5l-.94 2.06-2.06.94zm10 10l.94 2.06.94-2.06 2.06-.94-2.06-.94-.94-2.06-.94 2.06-2.06.94z\"/><path d=\"M17.41 7.96l-1.37-1.37c-.4-.4-.92-.59-1.43-.59-.52 0-1.04.2-1.43.59L10.3 9.45l-7.72 7.72c-.78.78-.78 2.05 0 2.83L4 21.41c.39.39.9.59 1.41.59.51 0 1.02-.2 1.41-.59l7.78-7.78 2.81-2.81c.8-.78.8-2.07 0-2.86zM5.41 20L4 18.59l7.72-7.72 1.47 1.35L5.41 20z\"/>\n",
              "  </svg>\n",
              "      </button>\n",
              "      \n",
              "  <style>\n",
              "    .colab-df-container {\n",
              "      display:flex;\n",
              "      flex-wrap:wrap;\n",
              "      gap: 12px;\n",
              "    }\n",
              "\n",
              "    .colab-df-convert {\n",
              "      background-color: #E8F0FE;\n",
              "      border: none;\n",
              "      border-radius: 50%;\n",
              "      cursor: pointer;\n",
              "      display: none;\n",
              "      fill: #1967D2;\n",
              "      height: 32px;\n",
              "      padding: 0 0 0 0;\n",
              "      width: 32px;\n",
              "    }\n",
              "\n",
              "    .colab-df-convert:hover {\n",
              "      background-color: #E2EBFA;\n",
              "      box-shadow: 0px 1px 2px rgba(60, 64, 67, 0.3), 0px 1px 3px 1px rgba(60, 64, 67, 0.15);\n",
              "      fill: #174EA6;\n",
              "    }\n",
              "\n",
              "    [theme=dark] .colab-df-convert {\n",
              "      background-color: #3B4455;\n",
              "      fill: #D2E3FC;\n",
              "    }\n",
              "\n",
              "    [theme=dark] .colab-df-convert:hover {\n",
              "      background-color: #434B5C;\n",
              "      box-shadow: 0px 1px 3px 1px rgba(0, 0, 0, 0.15);\n",
              "      filter: drop-shadow(0px 1px 2px rgba(0, 0, 0, 0.3));\n",
              "      fill: #FFFFFF;\n",
              "    }\n",
              "  </style>\n",
              "\n",
              "      <script>\n",
              "        const buttonEl =\n",
              "          document.querySelector('#df-a5f5ca1c-36ee-43aa-b73b-95224c9ea276 button.colab-df-convert');\n",
              "        buttonEl.style.display =\n",
              "          google.colab.kernel.accessAllowed ? 'block' : 'none';\n",
              "\n",
              "        async function convertToInteractive(key) {\n",
              "          const element = document.querySelector('#df-a5f5ca1c-36ee-43aa-b73b-95224c9ea276');\n",
              "          const dataTable =\n",
              "            await google.colab.kernel.invokeFunction('convertToInteractive',\n",
              "                                                     [key], {});\n",
              "          if (!dataTable) return;\n",
              "\n",
              "          const docLinkHtml = 'Like what you see? Visit the ' +\n",
              "            '<a target=\"_blank\" href=https://colab.research.google.com/notebooks/data_table.ipynb>data table notebook</a>'\n",
              "            + ' to learn more about interactive tables.';\n",
              "          element.innerHTML = '';\n",
              "          dataTable['output_type'] = 'display_data';\n",
              "          await google.colab.output.renderOutput(dataTable, element);\n",
              "          const docLink = document.createElement('div');\n",
              "          docLink.innerHTML = docLinkHtml;\n",
              "          element.appendChild(docLink);\n",
              "        }\n",
              "      </script>\n",
              "    </div>\n",
              "  </div>\n",
              "  "
            ]
          },
          "metadata": {},
          "execution_count": 11
        }
      ]
    },
    {
      "cell_type": "markdown",
      "source": [
        "### Cleaning data in the 'Employee_ID' column"
      ],
      "metadata": {
        "id": "8-LkHZJDP8vs"
      }
    },
    {
      "cell_type": "markdown",
      "source": [
        "#### See information in the 'Employee_ID' column"
      ],
      "metadata": {
        "id": "J5XMLilfQmc-"
      }
    },
    {
      "cell_type": "code",
      "source": [
        "dataset['Employee_ID'].info()"
      ],
      "metadata": {
        "colab": {
          "base_uri": "https://localhost:8080/"
        },
        "id": "fOTkFwBTP1uf",
        "outputId": "7554b136-8e60-4b00-e8de-c42e6c9d10cb"
      },
      "execution_count": null,
      "outputs": [
        {
          "output_type": "stream",
          "name": "stdout",
          "text": [
            "<class 'pandas.core.series.Series'>\n",
            "RangeIndex: 930 entries, 0 to 929\n",
            "Series name: Employee_ID\n",
            "Non-Null Count  Dtype\n",
            "--------------  -----\n",
            "930 non-null    int64\n",
            "dtypes: int64(1)\n",
            "memory usage: 7.4 KB\n"
          ]
        }
      ]
    },
    {
      "cell_type": "markdown",
      "source": [
        "#### Checking the unique amount of data in the 'Employee_ID' column, from here it will also be seen whether there is duplicate data"
      ],
      "metadata": {
        "id": "n9OAkq2TQqeJ"
      }
    },
    {
      "cell_type": "code",
      "source": [
        "dataset['Employee_ID'].nunique()"
      ],
      "metadata": {
        "colab": {
          "base_uri": "https://localhost:8080/"
        },
        "id": "nvYdUmk5QHMN",
        "outputId": "d0f2c21b-c109-483d-e2dd-6329148a5fab"
      },
      "execution_count": null,
      "outputs": [
        {
          "output_type": "execute_result",
          "data": {
            "text/plain": [
              "930"
            ]
          },
          "metadata": {},
          "execution_count": 13
        }
      ]
    },
    {
      "cell_type": "markdown",
      "source": [
        "### Cleaning data in the 'Name' column"
      ],
      "metadata": {
        "id": "rN4twMIQAewj"
      }
    },
    {
      "cell_type": "markdown",
      "source": [
        "#### Checks whether the \"Name\" column contains non-letter characters or other special characters that are irrelevant in people's names."
      ],
      "metadata": {
        "id": "rBjlrXiBBLMC"
      }
    },
    {
      "cell_type": "code",
      "source": [
        "import re\n",
        "\n",
        "# Mengecek apakah kolom \"Name\" mengandung karakter-karakter yang bukan huruf\n",
        "non_alphabet_chars = r'[^a-zA-Z\\s\\']'  # Ekspresi reguler untuk mencocokkan karakter yang bukan huruf kecuali karakter spasi (\\s) dan kutip (\\')\n",
        "\n",
        "mask = dataset['Name'].str.contains(non_alphabet_chars, regex=True)\n",
        "if mask.any():\n",
        "    print(\"Kolom 'Name' mengandung karakter yang bukan huruf.\")\n"
      ],
      "metadata": {
        "colab": {
          "base_uri": "https://localhost:8080/"
        },
        "id": "4n5Ezl9kCFRz",
        "outputId": "9b1bb58d-b848-4aa8-db88-346ba164c6d6"
      },
      "execution_count": null,
      "outputs": [
        {
          "output_type": "stream",
          "name": "stdout",
          "text": [
            "Kolom 'Name' mengandung karakter yang bukan huruf.\n"
          ]
        }
      ]
    },
    {
      "cell_type": "markdown",
      "source": [
        "#### Replaces unwanted characters with empty strings"
      ],
      "metadata": {
        "id": "H1FCs-_vC0vQ"
      }
    },
    {
      "cell_type": "code",
      "source": [
        "# Menggantikan karakter yang tidak diinginkan dengan string kosong\n",
        "non_alphabet_chars = r'[^a-zA-Z]'  # Ekspresi reguler untuk mencocokkan karakter yang bukan huruf\n",
        "\n",
        "dataset['Name'] = dataset['Name'].replace(non_alphabet_chars, '', regex=True)\n"
      ],
      "metadata": {
        "id": "xCplAYDyCu92"
      },
      "execution_count": null,
      "outputs": []
    },
    {
      "cell_type": "markdown",
      "source": [
        "#### Re-check the \"name\" column, if the column only contains letters it will not display anything"
      ],
      "metadata": {
        "id": "geX8i54oDt2f"
      }
    },
    {
      "cell_type": "code",
      "source": [
        "non_alphabet_chars = r'[^a-zA-Z]'\n",
        "\n",
        "mask = dataset['Name'].str.contains(non_alphabet_chars, regex=True)\n",
        "if mask.any():\n",
        "    print(\"Kolom 'Name' mengandung karakter yang bukan huruf.\")"
      ],
      "metadata": {
        "id": "Mn-b3GMKC7uj"
      },
      "execution_count": null,
      "outputs": []
    },
    {
      "cell_type": "code",
      "source": [
        "dataset['Name'].info()"
      ],
      "metadata": {
        "colab": {
          "base_uri": "https://localhost:8080/"
        },
        "id": "tq2LrvfHUC5J",
        "outputId": "da450eef-eeb9-4f97-9ced-fd5cf036475e"
      },
      "execution_count": null,
      "outputs": [
        {
          "output_type": "stream",
          "name": "stdout",
          "text": [
            "<class 'pandas.core.series.Series'>\n",
            "RangeIndex: 930 entries, 0 to 929\n",
            "Series name: Name\n",
            "Non-Null Count  Dtype \n",
            "--------------  ----- \n",
            "930 non-null    object\n",
            "dtypes: object(1)\n",
            "memory usage: 7.4+ KB\n"
          ]
        }
      ]
    },
    {
      "cell_type": "markdown",
      "source": [
        "### Cleaning data in the 'Gender' column"
      ],
      "metadata": {
        "id": "5B4fnYdMD8m0"
      }
    },
    {
      "cell_type": "markdown",
      "source": [
        "#### Checking irregular writing in the 'Gender' column"
      ],
      "metadata": {
        "id": "RWirsSkdMNRR"
      }
    },
    {
      "cell_type": "code",
      "source": [
        "print(dataset['GENDER'].unique())"
      ],
      "metadata": {
        "colab": {
          "base_uri": "https://localhost:8080/"
        },
        "id": "-yMHhwk3DwgU",
        "outputId": "9c4b8c14-5fa1-4cef-b343-4391b9293e65"
      },
      "execution_count": null,
      "outputs": [
        {
          "output_type": "stream",
          "name": "stdout",
          "text": [
            "['M' 'Male' 'F' 'Pria' 'Man' 'Laki-laki' 'Perempuan' 'Wanita' 'Female']\n"
          ]
        }
      ]
    },
    {
      "cell_type": "markdown",
      "source": [
        "#### Change 'M', 'Male', 'Pria', 'Man', 'Laki-laki' to 'Male'"
      ],
      "metadata": {
        "id": "q--P1bG5N3ak"
      }
    },
    {
      "cell_type": "code",
      "source": [
        "dataset['GENDER'] = dataset['GENDER'].replace(['M', 'Male', 'Pria', 'Man', 'Laki-laki'], 'Male')"
      ],
      "metadata": {
        "id": "_pRwz9dKNk6E"
      },
      "execution_count": null,
      "outputs": []
    },
    {
      "cell_type": "markdown",
      "source": [
        "#### Change 'F', 'Perempuan', 'Wanita', 'Female' to 'Female'"
      ],
      "metadata": {
        "id": "sPLUa_RlOJUB"
      }
    },
    {
      "cell_type": "code",
      "source": [
        "dataset['GENDER'] = dataset['GENDER'].replace(['F', 'Perempuan', 'Wanita', 'Female'], 'Female')"
      ],
      "metadata": {
        "id": "hvRVfnHnOaTM"
      },
      "execution_count": null,
      "outputs": []
    },
    {
      "cell_type": "markdown",
      "source": [
        "#### Re-check the contents of the data in the 'Gender' column"
      ],
      "metadata": {
        "id": "gN8zmy9bOm4H"
      }
    },
    {
      "cell_type": "code",
      "source": [
        "print(dataset['GENDER'].unique())"
      ],
      "metadata": {
        "colab": {
          "base_uri": "https://localhost:8080/"
        },
        "id": "JoyGhr6tOoh4",
        "outputId": "1e32cffd-1a37-4a65-8f09-51dd174501d6"
      },
      "execution_count": null,
      "outputs": [
        {
          "output_type": "stream",
          "name": "stdout",
          "text": [
            "['Male' 'Female']\n"
          ]
        }
      ]
    },
    {
      "cell_type": "code",
      "source": [
        "dataset['GENDER'].info()"
      ],
      "metadata": {
        "colab": {
          "base_uri": "https://localhost:8080/"
        },
        "id": "odJO3Il7UKtF",
        "outputId": "eb533df6-edd1-474a-cb8f-fc37bb8c3e0f"
      },
      "execution_count": null,
      "outputs": [
        {
          "output_type": "stream",
          "name": "stdout",
          "text": [
            "<class 'pandas.core.series.Series'>\n",
            "RangeIndex: 930 entries, 0 to 929\n",
            "Series name: GENDER\n",
            "Non-Null Count  Dtype \n",
            "--------------  ----- \n",
            "930 non-null    object\n",
            "dtypes: object(1)\n",
            "memory usage: 7.4+ KB\n"
          ]
        }
      ]
    },
    {
      "cell_type": "markdown",
      "source": [
        "### Cleaning data in the 'EDU_LVL' column"
      ],
      "metadata": {
        "id": "6g8nHBlqPPH9"
      }
    },
    {
      "cell_type": "markdown",
      "source": [
        "#### Checking irregular writing in the 'Gender' column\n",
        "Because no inappropriate writing was found, the contents of the data were considered clean"
      ],
      "metadata": {
        "id": "t8cwBpTGPjTe"
      }
    },
    {
      "cell_type": "code",
      "source": [
        "print(dataset['EDU_LVL'].unique())"
      ],
      "metadata": {
        "colab": {
          "base_uri": "https://localhost:8080/"
        },
        "id": "1ygfPbVGPVoN",
        "outputId": "5cd19f27-1a5b-4a42-cf62-8a4f48855960"
      },
      "execution_count": null,
      "outputs": [
        {
          "output_type": "stream",
          "name": "stdout",
          "text": [
            "['S1' 'S2' 'SLTA' 'D3' 'SMA' 'D1' 'D4']\n"
          ]
        }
      ]
    },
    {
      "cell_type": "code",
      "source": [
        "dataset['EDU_LVL'].info()"
      ],
      "metadata": {
        "colab": {
          "base_uri": "https://localhost:8080/"
        },
        "id": "cpgDT4i6UXb5",
        "outputId": "fa9ddd0c-d979-4c9b-e795-a2fad06fd6e5"
      },
      "execution_count": null,
      "outputs": [
        {
          "output_type": "stream",
          "name": "stdout",
          "text": [
            "<class 'pandas.core.series.Series'>\n",
            "RangeIndex: 930 entries, 0 to 929\n",
            "Series name: EDU_LVL\n",
            "Non-Null Count  Dtype \n",
            "--------------  ----- \n",
            "930 non-null    object\n",
            "dtypes: object(1)\n",
            "memory usage: 7.4+ KB\n"
          ]
        }
      ]
    },
    {
      "cell_type": "markdown",
      "source": [
        "### Cleaning data in the 'JOB_CATEGORY' column"
      ],
      "metadata": {
        "id": "JDZFNnn4Pvyi"
      }
    },
    {
      "cell_type": "markdown",
      "source": [
        "#### Checking irregular writing in the 'JOB_CATEGORY' column\n",
        "Because no inappropriate writing was found, the contents of the data were considered clean"
      ],
      "metadata": {
        "id": "zrt_HEywWjWu"
      }
    },
    {
      "cell_type": "code",
      "source": [
        "print(dataset['JOB_CATEGORY'].unique())"
      ],
      "metadata": {
        "colab": {
          "base_uri": "https://localhost:8080/"
        },
        "id": "YzBX0C2FP8eq",
        "outputId": "6799f106-f560-4a3b-828d-99e860d69fc2"
      },
      "execution_count": null,
      "outputs": [
        {
          "output_type": "stream",
          "name": "stdout",
          "text": [
            "['Functional Expert Band 2' 'Manager' 'Staff' 'Trainee' 'Supervisor'\n",
            " 'Senior Staff Band 2' 'Senior Staff Band 3' 'Secretary'\n",
            " 'Functional Expert Band 3' 'Senior Vice President' 'Vice President'\n",
            " 'Senior Staff Band 5']\n"
          ]
        }
      ]
    },
    {
      "cell_type": "code",
      "source": [
        "dataset['JOB_CATEGORY'].info()"
      ],
      "metadata": {
        "colab": {
          "base_uri": "https://localhost:8080/"
        },
        "id": "5GfdpEYaTrbO",
        "outputId": "cba89e7c-765f-41da-f013-5c6f0f6ea8c7"
      },
      "execution_count": null,
      "outputs": [
        {
          "output_type": "stream",
          "name": "stdout",
          "text": [
            "<class 'pandas.core.series.Series'>\n",
            "RangeIndex: 930 entries, 0 to 929\n",
            "Series name: JOB_CATEGORY\n",
            "Non-Null Count  Dtype \n",
            "--------------  ----- \n",
            "930 non-null    object\n",
            "dtypes: object(1)\n",
            "memory usage: 7.4+ KB\n"
          ]
        }
      ]
    },
    {
      "cell_type": "markdown",
      "source": [
        "### Cleaning data in the 'AGE' column"
      ],
      "metadata": {
        "id": "0m4zi4CcTlfq"
      }
    },
    {
      "cell_type": "code",
      "source": [
        "print(dataset['AGE'].unique())"
      ],
      "metadata": {
        "colab": {
          "base_uri": "https://localhost:8080/"
        },
        "id": "kD62ZKxtU4P8",
        "outputId": "fd6194c6-e709-4157-846d-1e8c73aa6947"
      },
      "execution_count": null,
      "outputs": [
        {
          "output_type": "stream",
          "name": "stdout",
          "text": [
            "['37 years, 2 month, 11 days' '42 years, 3 month, 14 days'\n",
            " '48 years, 4 month, 25 days' '50 years, 7 month, 2 days'\n",
            " '20 years, 4 month, 8 days' '37 years, 1 month, 17 days'\n",
            " '43 years, 1 month, 2 days' '27 years, 8 month, 14 days'\n",
            " '26 years, 1 month, 14 days' '32 years, 4 month, 1 days'\n",
            " '41 years, 3 month, 24 days' '40 years, 7 month, 22 days'\n",
            " '29 years, 5 month, 15 days' '32 years, 2 month, 6 days'\n",
            " '31 years, 8 month, 24 days' '40 years, 6 month, 21 days'\n",
            " '44 years, 2 month, 9 days' '35 years, 7 month, 12 days'\n",
            " '24 years, 9 month, 19 days' '34 years, 8 month, 10 days'\n",
            " '49 years, 6 month, 9 days' '47 years, 4 month, 10 days'\n",
            " '29 years, 6 month, 26 days' '46 years, 1 month, 13 days'\n",
            " '54 years, 2 month, 26 days' '33 years, 4 month, 15 days'\n",
            " '34 years, 5 month, 20 days' '40 years, 8 month, 15 days'\n",
            " '37 years, 2 month, 16 days' '42 years, 8 month, 14 days'\n",
            " '26 years, 9 month, 9 days' '33 years, 8 month, 12 days'\n",
            " '42 years, 1 month, 15 days' '44 years, 1 month, 26 days'\n",
            " '41 years, 7 month, 2 days' '45 years, 6 month, 25 days'\n",
            " '49 years, 8 month, 26 days' '46 years, 9 month, 9 days'\n",
            " '40 years, 2 month, 22 days' '37 years, 9 month, 6 days'\n",
            " '52 years, 6 month, 12 days' '27 years, 6 month, 4 days'\n",
            " '31 years, 5 month, 7 days' '37 years, 7 month, 2 days'\n",
            " '38 years, 2 month, 10 days' '46 years, 2 month, 3 days'\n",
            " '29 years, 5 month, 25 days' '55 years, 2 month, 12 days'\n",
            " '33 years, 7 month, 11 days' '28 years, 1 month, 3 days'\n",
            " '25 years, 8 month, 16 days' '39 years, 8 month, 26 days'\n",
            " '44 years, 7 month, 14 days' '37 years, 3 month, 5 days'\n",
            " '35 years, 6 month, 11 days' '49 years, 5 month, 20 days'\n",
            " '45 years, 4 month, 18 days' '41 years, 4 month, 21 days'\n",
            " '39 years, 8 month, 11 days' '47 years, 2 month, 18 days'\n",
            " '34 years, 2 month, 12 days' '25 years, 2 month, 3 days'\n",
            " '39 years, 6 month, 2 days' '26 years, 6 month, 7 days'\n",
            " '39 years, 5 month, 7 days' '25 years, 1 month, 14 days'\n",
            " '48 years, 6 month, 24 days' '38 years, 4 month, 24 days'\n",
            " '37 years, 2 month, 8 days' '37 years, 5 month, 2 days'\n",
            " '29 years, 7 month, 19 days' '37 years, 4 month, 19 days'\n",
            " '40 years, 6 month, 8 days' '35 years, 1 month, 22 days'\n",
            " '23 years, 3 month, 10 days' '41 years, 5 month, 26 days'\n",
            " '35 years, 4 month, 22 days' '47 years, 9 month, 17 days'\n",
            " '46 years, 9 month, 1 days' '36 years, 7 month, 19 days'\n",
            " '37 years, 7 month, 12 days' '52 years, 5 month, 3 days'\n",
            " '27 years, 2 month, 1 days' '40 years, 1 month, 17 days'\n",
            " '30 years, 7 month, 19 days' '35 years, 5 month, 6 days'\n",
            " '29 years, 4 month, 14 days' '38 years, 3 month, 20 days'\n",
            " '53 years, 7 month, 13 days' '37 years, 7 month, 6 days'\n",
            " '31 years, 8 month, 14 days' '23 years, 1 month, 2 days'\n",
            " '41 years, 8 month, 14 days' '36 years, 9 month, 16 days'\n",
            " '45 years, 6 month, 2 days' '50 years, 7 month, 8 days'\n",
            " '30 years, 2 month, 14 days' '34 years, 7 month, 18 days'\n",
            " '34 years, 7 month, 4 days' '30 years, 6 month, 23 days'\n",
            " '40 years, 7 month, 16 days' '30 years, 3 month, 15 days'\n",
            " '46 years, 5 month, 17 days' '48 years, 1 month, 16 days'\n",
            " '30 years, 4 month, 15 days' '37 years, 8 month, 18 days'\n",
            " '39 years, 7 month, 12 days' '25 years, 6 month, 25 days'\n",
            " '36 years, 8 month, 16 days' '39 years, 7 month, 9 days'\n",
            " '27 years, 4 month, 17 days' '26 years, 3 month, 14 days'\n",
            " '37 years, 5 month, 12 days' '39 years, 4 month, 10 days'\n",
            " '25 years, 1 month, 9 days' '45 years, 9 month, 21 days'\n",
            " '44 years, 7 month, 11 days' '27 years, 7 month, 11 days'\n",
            " '38 years, 2 month, 26 days' '42 years, 3 month, 25 days'\n",
            " '26 years, 3 month, 26 days' '47 years, 6 month, 19 days'\n",
            " '41 years, 5 month, 8 days' '29 years, 5 month, 8 days'\n",
            " '44 years, 2 month, 7 days' '41 years, 3 month, 19 days'\n",
            " '31 years, 5 month, 6 days' '39 years, 2 month, 2 days'\n",
            " '44 years, 6 month, 24 days' '31 years, 2 month, 23 days'\n",
            " '35 years, 9 month, 23 days' '39 years, 2 month, 18 days'\n",
            " '43 years, 2 month, 14 days' '37 years, 4 month, 1 days'\n",
            " '41 years, 5 month, 14 days' '44 years, 3 month, 23 days'\n",
            " '40 years, 6 month, 20 days' '34 years, 1 month, 5 days'\n",
            " '25 years, 3 month, 16 days' '24 years, 7 month, 22 days'\n",
            " '27 years, 4 month, 5 days' '36 years, 1 month, 5 days'\n",
            " '38 years, 1 month, 25 days' '24 years, 3 month, 22 days'\n",
            " '35 years, 4 month, 26 days' '34 years, 3 month, 23 days'\n",
            " '49 years, 2 month, 1 days' '43 years, 5 month, 25 days'\n",
            " '28 years, 5 month, 6 days' '36 years, 9 month, 4 days'\n",
            " '34 years, 5 month, 18 days' '26 years, 5 month, 25 days'\n",
            " '28 years, 2 month, 15 days' '46 years, 1 month, 4 days'\n",
            " '43 years, 2 month, 19 days' '29 years, 6 month, 20 days'\n",
            " '42 years, 3 month, 12 days' '32 years, 8 month, 21 days'\n",
            " '32 years, 6 month, 5 days' '31 years, 2 month, 5 days'\n",
            " '49 years, 6 month, 13 days' '28 years, 3 month, 15 days'\n",
            " '46 years, 7 month, 24 days' '37 years, 2 month, 21 days'\n",
            " '51 years, 4 month, 17 days' '48 years, 6 month, 12 days'\n",
            " '43 years, 9 month, 22 days' '33 years, 7 month, 24 days'\n",
            " '37 years, 1 month, 9 days' '41 years, 2 month, 4 days'\n",
            " '42 years, 9 month, 26 days' '40 years, 8 month, 17 days'\n",
            " '30 years, 6 month, 26 days' '31 years, 6 month, 11 days'\n",
            " '36 years, 2 month, 20 days' '26 years, 4 month, 7 days'\n",
            " '38 years, 5 month, 20 days' '29 years, 9 month, 16 days'\n",
            " '39 years, 7 month, 26 days' '43 years, 8 month, 2 days'\n",
            " '39 years, 5 month, 12 days' '38 years, 8 month, 21 days'\n",
            " '32 years, 6 month, 3 days' '26 years, 8 month, 24 days'\n",
            " '23 years, 1 month, 10 days' '39 years, 6 month, 7 days'\n",
            " '25 years, 3 month, 24 days' '28 years, 9 month, 14 days'\n",
            " '32 years, 1 month, 1 days' '38 years, 9 month, 11 days'\n",
            " '43 years, 6 month, 25 days' '46 years, 5 month, 15 days'\n",
            " '23 years, 5 month, 2 days' '35 years, 9 month, 19 days'\n",
            " '31 years, 8 month, 10 days' '37 years, 2 month, 20 days'\n",
            " '32 years, 8 month, 7 days' '25 years, 9 month, 8 days'\n",
            " '30 years, 7 month, 14 days' '34 years, 5 month, 21 days'\n",
            " '48 years, 9 month, 7 days' '42 years, 1 month, 9 days'\n",
            " '30 years, 1 month, 3 days' '43 years, 9 month, 7 days'\n",
            " '50 years, 8 month, 26 days' '27 years, 5 month, 25 days'\n",
            " '37 years, 8 month, 10 days' '41 years, 4 month, 16 days'\n",
            " '35 years, 7 month, 26 days' '37 years, 5 month, 26 days'\n",
            " '39 years, 4 month, 11 days' '46 years, 6 month, 25 days'\n",
            " '41 years, 6 month, 20 days' '37 years, 3 month, 16 days'\n",
            " '24 years, 1 month, 26 days' '31 years, 3 month, 15 days'\n",
            " '26 years, 4 month, 24 days' '42 years, 9 month, 18 days'\n",
            " '27 years, 3 month, 14 days' '44 years, 8 month, 20 days'\n",
            " '27 years, 5 month, 12 days' '31 years, 5 month, 17 days'\n",
            " '31 years, 2 month, 25 days' '25 years, 9 month, 6 days'\n",
            " '37 years, 7 month, 25 days' '42 years, 8 month, 21 days'\n",
            " '49 years, 3 month, 11 days' '45 years, 4 month, 26 days'\n",
            " '35 years, 8 month, 19 days' '31 years, 5 month, 13 days'\n",
            " '42 years, 8 month, 9 days' '47 years, 5 month, 2 days'\n",
            " '48 years, 5 month, 6 days' '32 years, 8 month, 2 days'\n",
            " '47 years, 7 month, 5 days' '42 years, 7 month, 16 days'\n",
            " '38 years, 8 month, 20 days' '41 years, 4 month, 10 days'\n",
            " '28 years, 1 month, 12 days' '26 years, 9 month, 6 days'\n",
            " '48 years, 3 month, 25 days' '24 years, 9 month, 23 days'\n",
            " '46 years, 8 month, 8 days' '24 years, 9 month, 4 days'\n",
            " '49 years, 1 month, 26 days' '37 years, 9 month, 5 days'\n",
            " '25 years, 4 month, 21 days' '48 years, 1 month, 3 days'\n",
            " '42 years, 9 month, 11 days' '27 years, 1 month, 26 days'\n",
            " '42 years, 6 month, 3 days' '41 years, 5 month, 6 days'\n",
            " '37 years, 6 month, 16 days' '28 years, 7 month, 8 days'\n",
            " '28 years, 3 month, 8 days' '49 years, 9 month, 8 days'\n",
            " '42 years, 7 month, 8 days' '34 years, 3 month, 13 days'\n",
            " '26 years, 6 month, 23 days' '35 years, 6 month, 8 days'\n",
            " '35 years, 4 month, 20 days' '37 years, 6 month, 1 days'\n",
            " '42 years, 6 month, 20 days' '43 years, 6 month, 6 days'\n",
            " '30 years, 1 month, 8 days' '46 years, 4 month, 6 days'\n",
            " '26 years, 8 month, 10 days' '34 years, 3 month, 1 days'\n",
            " '37 years, 4 month, 25 days' '26 years, 1 month, 20 days'\n",
            " '31 years, 8 month, 25 days' '47 years, 4 month, 12 days'\n",
            " '42 years, 1 month, 16 days' '55 years, 4 month, 2 days'\n",
            " '25 years, 9 month, 7 days' '28 years, 5 month, 10 days'\n",
            " '47 years, 6 month, 3 days' '36 years, 7 month, 25 days'\n",
            " '33 years, 2 month, 8 days' '38 years, 2 month, 14 days'\n",
            " '38 years, 6 month, 26 days' '40 years, 7 month, 11 days'\n",
            " '29 years, 2 month, 22 days' '26 years, 7 month, 21 days'\n",
            " '46 years, 1 month, 17 days' '25 years, 3 month, 1 days'\n",
            " '28 years, 3 month, 22 days' '30 years, 8 month, 11 days'\n",
            " '43 years, 2 month, 9 days' '41 years, 8 month, 10 days'\n",
            " '40 years, 4 month, 23 days' '35 years, 5 month, 23 days'\n",
            " '35 years, 1 month, 19 days' '28 years, 6 month, 13 days'\n",
            " '49 years, 7 month, 5 days' '29 years, 3 month, 6 days'\n",
            " '29 years, 3 month, 15 days' '31 years, 2 month, 9 days'\n",
            " '47 years, 1 month, 13 days' '40 years, 7 month, 14 days'\n",
            " '25 years, 7 month, 26 days' '32 years, 1 month, 10 days'\n",
            " '27 years, 1 month, 4 days' '41 years, 2 month, 16 days'\n",
            " '28 years, 7 month, 9 days' '45 years, 8 month, 24 days'\n",
            " '46 years, 6 month, 9 days' '40 years, 7 month, 21 days'\n",
            " '37 years, 4 month, 17 days' '24 years, 9 month, 20 days'\n",
            " '47 years, 8 month, 25 days' '37 years, 8 month, 3 days'\n",
            " '42 years, 1 month, 1 days' '44 years, 8 month, 25 days'\n",
            " '37 years, 6 month, 21 days' '47 years, 4 month, 19 days'\n",
            " '36 years, 9 month, 10 days' '40 years, 3 month, 26 days'\n",
            " '37 years, 9 month, 22 days' '28 years, 9 month, 1 days'\n",
            " '28 years, 8 month, 18 days' '26 years, 4 month, 2 days'\n",
            " '36 years, 9 month, 6 days' '38 years, 9 month, 13 days'\n",
            " '42 years, 5 month, 12 days' '46 years, 1 month, 23 days'\n",
            " '30 years, 2 month, 25 days' '52 years, 3 month, 17 days'\n",
            " '24 years, 3 month, 4 days' '37 years, 3 month, 22 days'\n",
            " '25 years, 2 month, 9 days' '45 years, 9 month, 12 days'\n",
            " '27 years, 9 month, 22 days' '29 years, 7 month, 6 days'\n",
            " '29 years, 9 month, 12 days' '24 years, 9 month, 7 days'\n",
            " '33 years, 1 month, 3 days' '42 years, 2 month, 18 days'\n",
            " '28 years, 7 month, 4 days' '36 years, 6 month, 7 days'\n",
            " '50 years, 8 month, 18 days' '46 years, 9 month, 26 days'\n",
            " '47 years, 5 month, 19 days' '31 years, 8 month, 21 days'\n",
            " '43 years, 5 month, 11 days' '25 years, 9 month, 12 days'\n",
            " '36 years, 5 month, 6 days' '30 years, 3 month, 3 days'\n",
            " '37 years, 1 month, 12 days' '25 years, 7 month, 23 days'\n",
            " '34 years, 3 month, 15 days' '35 years, 6 month, 24 days'\n",
            " '38 years, 9 month, 14 days' '24 years, 3 month, 26 days'\n",
            " '29 years, 2 month, 2 days' '38 years, 6 month, 11 days'\n",
            " '49 years, 5 month, 23 days' '27 years, 4 month, 11 days'\n",
            " '42 years, 2 month, 15 days' '35 years, 6 month, 17 days'\n",
            " '45 years, 6 month, 16 days' '39 years, 1 month, 4 days'\n",
            " '33 years, 5 month, 19 days' '42 years, 8 month, 22 days'\n",
            " '41 years, 2 month, 23 days' '35 years, 4 month, 3 days'\n",
            " '32 years, 1 month, 6 days' '37 years, 9 month, 15 days'\n",
            " '29 years, 3 month, 3 days' '40 years, 8 month, 26 days'\n",
            " '41 years, 7 month, 11 days' '42 years, 2 month, 24 days'\n",
            " '27 years, 1 month, 21 days' '29 years, 3 month, 13 days'\n",
            " '49 years, 7 month, 12 days' '30 years, 8 month, 2 days'\n",
            " '35 years, 8 month, 4 days' '39 years, 6 month, 9 days'\n",
            " '39 years, 7 month, 10 days' '43 years, 4 month, 24 days'\n",
            " '37 years, 7 month, 26 days' '49 years, 4 month, 16 days'\n",
            " '39 years, 9 month, 2 days' '28 years, 5 month, 18 days'\n",
            " '38 years, 2 month, 12 days' '26 years, 5 month, 22 days'\n",
            " '41 years, 7 month, 18 days' '41 years, 1 month, 20 days'\n",
            " '31 years, 7 month, 18 days' '28 years, 4 month, 11 days'\n",
            " '38 years, 6 month, 12 days' '37 years, 7 month, 9 days'\n",
            " '39 years, 2 month, 12 days' '51 years, 2 month, 21 days'\n",
            " '44 years, 5 month, 19 days' '49 years, 5 month, 7 days'\n",
            " '41 years, 2 month, 5 days' '27 years, 9 month, 10 days'\n",
            " '31 years, 6 month, 20 days' '32 years, 3 month, 15 days'\n",
            " '25 years, 9 month, 18 days' '49 years, 8 month, 25 days'\n",
            " '32 years, 8 month, 9 days' '28 years, 9 month, 21 days'\n",
            " '31 years, 3 month, 10 days' '26 years, 4 month, 25 days'\n",
            " '27 years, 1 month, 1 days' '31 years, 6 month, 19 days'\n",
            " '40 years, 5 month, 22 days' '24 years, 5 month, 10 days'\n",
            " '36 years, 9 month, 25 days' '35 years, 6 month, 2 days'\n",
            " '33 years, 2 month, 13 days' '31 years, 4 month, 9 days'\n",
            " '36 years, 7 month, 4 days' '44 years, 1 month, 23 days'\n",
            " '23 years, 3 month, 7 days' '38 years, 9 month, 23 days'\n",
            " '38 years, 7 month, 24 days' '43 years, 6 month, 5 days'\n",
            " '26 years, 3 month, 25 days' '28 years, 1 month, 4 days'\n",
            " '39 years, 4 month, 25 days' '27 years, 9 month, 24 days'\n",
            " '53 years, 5 month, 4 days' '28 years, 7 month, 16 days'\n",
            " '30 years, 3 month, 9 days' '31 years, 7 month, 4 days'\n",
            " '44 years, 7 month, 21 days' '41 years, 7 month, 7 days'\n",
            " '31 years, 7 month, 22 days' '41 years, 3 month, 12 days'\n",
            " '26 years, 5 month, 17 days' '31 years, 5 month, 12 days'\n",
            " '28 years, 7 month, 18 days' '25 years, 5 month, 4 days'\n",
            " '40 years, 6 month, 10 days' '46 years, 4 month, 26 days'\n",
            " '37 years, 1 month, 24 days' '22 years, 8 month, 17 days'\n",
            " '39 years, 9 month, 17 days' '37 years, 8 month, 15 days'\n",
            " '35 years, 8 month, 10 days' '39 years, 1 month, 3 days'\n",
            " '25 years, 8 month, 24 days' '40 years, 3 month, 13 days'\n",
            " '33 years, 1 month, 19 days' '32 years, 8 month, 4 days'\n",
            " '54 years, 3 month, 9 days' '33 years, 2 month, 22 days'\n",
            " '29 years, 6 month, 7 days' '36 years, 5 month, 13 days'\n",
            " '25 years, 5 month, 11 days' '30 years, 9 month, 10 days'\n",
            " '36 years, 3 month, 14 days' '46 years, 8 month, 16 days'\n",
            " '30 years, 6 month, 20 days' '25 years, 1 month, 23 days'\n",
            " '42 years, 8 month, 1 days' '45 years, 2 month, 22 days'\n",
            " '39 years, 9 month, 9 days' '27 years, 8 month, 6 days'\n",
            " '48 years, 5 month, 8 days' '34 years, 3 month, 9 days'\n",
            " '32 years, 5 month, 17 days' '25 years, 3 month, 25 days'\n",
            " '50 years, 7 month, 20 days' '39 years, 3 month, 7 days'\n",
            " '48 years, 2 month, 10 days' '25 years, 3 month, 13 days'\n",
            " '35 years, 9 month, 2 days' '25 years, 5 month, 26 days'\n",
            " '25 years, 2 month, 20 days' '41 years, 7 month, 1 days'\n",
            " '36 years, 4 month, 18 days' '36 years, 8 month, 14 days'\n",
            " '36 years, 3 month, 7 days' '39 years, 8 month, 19 days'\n",
            " '31 years, 6 month, 21 days' '39 years, 3 month, 4 days'\n",
            " '41 years, 4 month, 2 days' '49 years, 7 month, 11 days'\n",
            " '32 years, 3 month, 6 days' '29 years, 5 month, 3 days'\n",
            " '42 years, 5 month, 13 days' '40 years, 9 month, 1 days'\n",
            " '40 years, 6 month, 25 days' '34 years, 4 month, 22 days'\n",
            " '51 years, 1 month, 8 days' '27 years, 6 month, 9 days'\n",
            " '37 years, 7 month, 22 days' '36 years, 5 month, 18 days'\n",
            " '37 years, 3 month, 2 days' '27 years, 7 month, 1 days'\n",
            " '45 years, 4 month, 22 days' '47 years, 9 month, 4 days'\n",
            " '28 years, 3 month, 16 days' '43 years, 4 month, 1 days'\n",
            " '30 years, 5 month, 1 days' '25 years, 2 month, 26 days'\n",
            " '43 years, 2 month, 12 days' '51 years, 6 month, 7 days'\n",
            " '51 years, 7 month, 21 days' '38 years, 5 month, 14 days'\n",
            " '45 years, 8 month, 14 days' '27 years, 9 month, 25 days'\n",
            " '30 years, 8 month, 21 days' '30 years, 7 month, 20 days'\n",
            " '38 years, 5 month, 10 days' '26 years, 3 month, 8 days'\n",
            " '27 years, 7 month, 15 days' '53 years, 3 month, 22 days'\n",
            " '42 years, 8 month, 8 days' '28 years, 2 month, 22 days'\n",
            " '30 years, 7 month, 7 days' '44 years, 3 month, 10 days'\n",
            " '32 years, 4 month, 4 days' '41 years, 5 month, 17 days'\n",
            " '38 years, 9 month, 21 days' '37 years, 1 month, 21 days'\n",
            " '46 years, 9 month, 8 days' '22 years, 6 month, 19 days'\n",
            " '39 years, 9 month, 11 days' '28 years, 1 month, 2 days'\n",
            " '37 years, 5 month, 16 days' '30 years, 5 month, 16 days'\n",
            " '39 years, 6 month, 25 days' '46 years, 1 month, 12 days'\n",
            " '40 years, 1 month, 11 days' '48 years, 5 month, 20 days'\n",
            " '39 years, 5 month, 26 days' '43 years, 4 month, 23 days'\n",
            " '34 years, 8 month, 3 days' '38 years, 6 month, 15 days'\n",
            " '27 years, 8 month, 25 days' '43 years, 7 month, 1 days'\n",
            " '47 years, 5 month, 18 days' '35 years, 7 month, 19 days'\n",
            " '50 years, 5 month, 7 days' '26 years, 4 month, 10 days'\n",
            " '40 years, 9 month, 10 days' '51 years, 2 month, 18 days'\n",
            " '30 years, 9 month, 2 days' '49 years, 8 month, 24 days'\n",
            " '46 years, 2 month, 14 days' '36 years, 1 month, 7 days'\n",
            " '37 years, 8 month, 5 days' '35 years, 2 month, 9 days'\n",
            " '24 years, 4 month, 17 days' '25 years, 2 month, 24 days'\n",
            " '38 years, 3 month, 16 days' '43 years, 6 month, 2 days'\n",
            " '50 years, 6 month, 16 days' '48 years, 7 month, 18 days'\n",
            " '42 years, 3 month, 15 days' '35 years, 3 month, 18 days'\n",
            " '50 years, 9 month, 9 days' '47 years, 2 month, 12 days'\n",
            " '38 years, 7 month, 8 days' '43 years, 1 month, 25 days'\n",
            " '32 years, 8 month, 19 days' '26 years, 3 month, 9 days'\n",
            " '50 years, 2 month, 3 days' '39 years, 2 month, 7 days'\n",
            " '42 years, 4 month, 3 days' '27 years, 8 month, 9 days'\n",
            " '38 years, 8 month, 17 days' '25 years, 3 month, 21 days'\n",
            " '46 years, 1 month, 25 days' '25 years, 6 month, 24 days'\n",
            " '45 years, 1 month, 5 days' '44 years, 8 month, 16 days'\n",
            " '47 years, 4 month, 6 days' '48 years, 9 month, 3 days'\n",
            " '39 years, 4 month, 18 days' '38 years, 4 month, 9 days'\n",
            " '50 years, 1 month, 22 days' '40 years, 9 month, 9 days'\n",
            " '38 years, 8 month, 13 days' '41 years, 8 month, 22 days'\n",
            " '38 years, 5 month, 11 days' '29 years, 5 month, 11 days'\n",
            " '39 years, 6 month, 23 days' '30 years, 6 month, 9 days'\n",
            " '32 years, 1 month, 26 days' '42 years, 9 month, 4 days'\n",
            " '40 years, 4 month, 18 days' '47 years, 5 month, 23 days'\n",
            " '35 years, 8 month, 2 days' '30 years, 3 month, 14 days'\n",
            " '39 years, 6 month, 19 days' '40 years, 1 month, 5 days'\n",
            " '49 years, 9 month, 1 days' '26 years, 6 month, 1 days'\n",
            " '43 years, 7 month, 11 days' '50 years, 6 month, 11 days'\n",
            " '35 years, 2 month, 17 days' '40 years, 1 month, 13 days'\n",
            " '26 years, 7 month, 6 days' '29 years, 2 month, 12 days'\n",
            " '36 years, 2 month, 11 days' '55 years, 8 month, 23 days'\n",
            " '25 years, 1 month, 15 days' '43 years, 5 month, 23 days'\n",
            " '38 years, 2 month, 15 days' '54 years, 6 month, 3 days'\n",
            " '51 years, 5 month, 20 days' '41 years, 4 month, 4 days'\n",
            " '25 years, 8 month, 22 days' '50 years, 8 month, 19 days'\n",
            " '37 years, 2 month, 24 days' '34 years, 8 month, 18 days'\n",
            " '24 years, 1 month, 22 days' '48 years, 7 month, 12 days'\n",
            " '43 years, 6 month, 12 days' '45 years, 5 month, 18 days'\n",
            " '25 years, 5 month, 16 days' '26 years, 7 month, 8 days'\n",
            " '44 years, 6 month, 8 days' '28 years, 1 month, 10 days'\n",
            " '38 years, 9 month, 16 days' '32 years, 5 month, 12 days'\n",
            " '30 years, 4 month, 24 days' '31 years, 1 month, 2 days'\n",
            " '42 years, 3 month, 18 days' '24 years, 1 month, 5 days'\n",
            " '44 years, 5 month, 4 days' '32 years, 2 month, 1 days'\n",
            " '55 years, 3 month, 1 days' '31 years, 9 month, 5 days'\n",
            " '42 years, 2 month, 3 days' '37 years, 6 month, 22 days'\n",
            " '24 years, 4 month, 9 days' '38 years, 7 month, 15 days'\n",
            " '45 years, 5 month, 13 days' '25 years, 1 month, 2 days'\n",
            " '38 years, 4 month, 18 days' '37 years, 1 month, 7 days'\n",
            " '36 years, 4 month, 7 days' '28 years, 2 month, 20 days'\n",
            " '31 years, 2 month, 10 days' '38 years, 9 month, 9 days'\n",
            " '43 years, 3 month, 14 days' '50 years, 9 month, 19 days'\n",
            " '33 years, 6 month, 1 days' '36 years, 4 month, 23 days'\n",
            " '41 years, 6 month, 8 days' '37 years, 7 month, 13 days'\n",
            " '41 years, 1 month, 10 days' '48 years, 7 month, 9 days'\n",
            " '30 years, 6 month, 18 days' '29 years, 3 month, 18 days'\n",
            " '39 years, 5 month, 1 days' '39 years, 1 month, 6 days'\n",
            " '24 years, 6 month, 16 days' '41 years, 4 month, 13 days'\n",
            " '41 years, 5 month, 22 days' '32 years, 4 month, 16 days'\n",
            " '24 years, 4 month, 7 days' '48 years, 8 month, 23 days'\n",
            " '24 years, 7 month, 25 days' '47 years, 7 month, 2 days'\n",
            " '36 years, 2 month, 10 days' '29 years, 5 month, 7 days'\n",
            " '33 years, 1 month, 20 days' '29 years, 1 month, 22 days'\n",
            " '51 years, 9 month, 13 days' '38 years, 4 month, 11 days'\n",
            " '36 years, 5 month, 9 days' '28 years, 2 month, 26 days'\n",
            " '28 years, 5 month, 14 days' '26 years, 5 month, 16 days'\n",
            " '27 years, 3 month, 2 days' '34 years, 6 month, 11 days'\n",
            " '29 years, 6 month, 5 days' '30 years, 4 month, 8 days'\n",
            " '32 years, 7 month, 17 days' '41 years, 6 month, 4 days'\n",
            " '33 years, 7 month, 9 days' '38 years, 3 month, 4 days'\n",
            " '43 years, 3 month, 10 days' '26 years, 9 month, 10 days'\n",
            " '33 years, 2 month, 19 days' '39 years, 9 month, 24 days'\n",
            " '50 years, 4 month, 11 days' '41 years, 9 month, 6 days'\n",
            " '22 years, 6 month, 17 days' '31 years, 5 month, 2 days'\n",
            " '43 years, 5 month, 10 days' '35 years, 1 month, 7 days'\n",
            " '43 years, 5 month, 24 days' '34 years, 1 month, 20 days'\n",
            " '27 years, 2 month, 24 days' '42 years, 8 month, 11 days'\n",
            " '46 years, 8 month, 25 days' '51 years, 6 month, 10 days'\n",
            " '38 years, 6 month, 6 days' '25 years, 5 month, 20 days'\n",
            " '35 years, 8 month, 9 days' '43 years, 4 month, 5 days'\n",
            " '33 years, 7 month, 6 days' '36 years, 7 month, 8 days'\n",
            " '34 years, 7 month, 16 days' '28 years, 1 month, 14 days'\n",
            " '44 years, 8 month, 19 days' '45 years, 4 month, 8 days'\n",
            " '37 years, 9 month, 12 days' '47 years, 2 month, 14 days'\n",
            " '30 years, 1 month, 13 days' '41 years, 3 month, 10 days'\n",
            " '23 years, 2 month, 3 days' '42 years, 5 month, 10 days'\n",
            " '42 years, 6 month, 8 days' '50 years, 3 month, 2 days'\n",
            " '35 years, 8 month, 6 days' '32 years, 2 month, 2 days'\n",
            " '38 years, 1 month, 12 days' '49 years, 3 month, 22 days'\n",
            " '38 years, 6 month, 20 days' '45 years, 3 month, 17 days'\n",
            " '27 years, 3 month, 11 days' '29 years, 7 month, 20 days'\n",
            " '43 years, 7 month, 15 days' '48 years, 9 month, 1 days'\n",
            " '53 years, 8 month, 4 days' '24 years, 3 month, 11 days'\n",
            " '32 years, 9 month, 9 days' '39 years, 3 month, 6 days'\n",
            " '51 years, 6 month, 20 days' '37 years, 4 month, 22 days'\n",
            " '32 years, 5 month, 5 days' '29 years, 4 month, 9 days'\n",
            " '44 years, 7 month, 22 days' '30 years, 4 month, 16 days'\n",
            " '22 years, 6 month, 14 days' '38 years, 7 month, 13 days'\n",
            " '27 years, 9 month, 11 days' '26 years, 9 month, 17 days'\n",
            " '32 years, 6 month, 14 days' '46 years, 6 month, 1 days'\n",
            " '35 years, 5 month, 14 days' '39 years, 4 month, 7 days'\n",
            " '44 years, 9 month, 20 days' '27 years, 2 month, 25 days'\n",
            " '31 years, 4 month, 15 days' '47 years, 6 month, 14 days'\n",
            " '28 years, 8 month, 14 days' '27 years, 5 month, 24 days'\n",
            " '31 years, 1 month, 6 days' '25 years, 4 month, 19 days'\n",
            " '46 years, 7 month, 15 days' '43 years, 5 month, 6 days'\n",
            " '36 years, 2 month, 16 days' '33 years, 9 month, 25 days'\n",
            " '43 years, 4 month, 18 days' '31 years, 8 month, 26 days'\n",
            " '42 years, 8 month, 4 days' '31 years, 5 month, 24 days'\n",
            " '24 years, 6 month, 10 days' '41 years, 2 month, 26 days'\n",
            " '49 years, 4 month, 5 days' '43 years, 3 month, 7 days'\n",
            " '43 years, 5 month, 14 days' '52 years, 5 month, 21 days'\n",
            " '47 years, 8 month, 11 days' '28 years, 6 month, 7 days'\n",
            " '26 years, 6 month, 12 days' '43 years, 8 month, 23 days'\n",
            " '46 years, 5 month, 5 days' '27 years, 9 month, 15 days'\n",
            " '43 years, 6 month, 9 days' '36 years, 2 month, 19 days'\n",
            " '46 years, 7 month, 8 days' '41 years, 6 month, 13 days'\n",
            " '32 years, 9 month, 19 days' '38 years, 1 month, 20 days'\n",
            " '47 years, 5 month, 5 days' '25 years, 8 month, 2 days'\n",
            " '38 years, 7 month, 10 days' '43 years, 6 month, 26 days'\n",
            " '26 years, 6 month, 24 days' '49 years, 1 month, 24 days'\n",
            " '37 years, 3 month, 8 days' '35 years, 4 month, 15 days'\n",
            " '38 years, 8 month, 25 days' '42 years, 8 month, 19 days'\n",
            " '24 years, 1 month, 15 days' '27 years, 4 month, 25 days'\n",
            " '41 years, 9 month, 9 days' '26 years, 3 month, 15 days'\n",
            " '25 years, 4 month, 7 days' '29 years, 2 month, 7 days'\n",
            " '27 years, 2 month, 23 days' '41 years, 9 month, 2 days'\n",
            " '38 years, 8 month, 1 days' '23 years, 6 month, 10 days'\n",
            " '32 years, 7 month, 22 days' '33 years, 3 month, 24 days'\n",
            " '29 years, 8 month, 6 days' '30 years, 5 month, 14 days'\n",
            " '27 years, 5 month, 4 days' '30 years, 8 month, 8 days'\n",
            " '34 years, 7 month, 23 days' '34 years, 4 month, 16 days'\n",
            " '39 years, 9 month, 13 days' '48 years, 6 month, 9 days'\n",
            " '22 years, 1 month, 21 days' '42 years, 9 month, 8 days'\n",
            " '28 years, 5 month, 16 days' '37 years, 5 month, 17 days'\n",
            " '42 years, 7 month, 11 days' '25 years, 9 month, 24 days'\n",
            " '43 years, 5 month, 22 days' '36 years, 4 month, 21 days'\n",
            " '43 years, 6 month, 11 days' '46 years, 4 month, 16 days'\n",
            " '55 years, 5 month, 10 days' '37 years, 4 month, 2 days'\n",
            " '41 years, 5 month, 10 days' '28 years, 8 month, 12 days'\n",
            " '44 years, 1 month, 17 days' '37 years, 3 month, 14 days'\n",
            " '47 years, 7 month, 3 days' '46 years, 4 month, 12 days'\n",
            " '25 years, 3 month, 5 days' '37 years, 8 month, 17 days'\n",
            " '50 years, 1 month, 14 days' '25 years, 5 month, 8 days'\n",
            " '32 years, 9 month, 16 days' '32 years, 5 month, 2 days'\n",
            " '40 years, 5 month, 11 days' '45 years, 2 month, 7 days'\n",
            " '22 years, 2 month, 22 days' '32 years, 9 month, 11 days'\n",
            " '23 years, 9 month, 3 days' '30 years, 1 month, 12 days'\n",
            " '35 years, 2 month, 23 days' '41 years, 7 month, 13 days'\n",
            " '38 years, 7 month, 1 days' '24 years, 4 month, 19 days'\n",
            " '32 years, 3 month, 24 days' '41 years, 2 month, 14 days'\n",
            " '44 years, 1 month, 11 days' '44 years, 5 month, 16 days'\n",
            " '33 years, 5 month, 20 days' '50 years, 7 month, 4 days'\n",
            " '29 years, 2 month, 9 days' '40 years, 4 month, 4 days'\n",
            " '39 years, 8 month, 22 days' '29 years, 1 month, 3 days'\n",
            " '38 years, 8 month, 19 days' '37 years, 4 month, 3 days'\n",
            " '28 years, 4 month, 14 days' '38 years, 4 month, 4 days'\n",
            " '39 years, 7 month, 19 days' '29 years, 4 month, 6 days'\n",
            " '30 years, 5 month, 22 days' '46 years, 7 month, 26 days'\n",
            " '47 years, 2 month, 3 days' '38 years, 8 month, 26 days'\n",
            " '49 years, 9 month, 9 days' '29 years, 3 month, 21 days'\n",
            " '37 years, 2 month, 3 days' '48 years, 7 month, 2 days'\n",
            " '30 years, 7 month, 21 days' '35 years, 9 month, 14 days'\n",
            " '47 years, 2 month, 16 days' '27 years, 9 month, 8 days'\n",
            " '24 years, 1 month, 3 days' '44 years, 4 month, 10 days'\n",
            " '26 years, 1 month, 6 days' '35 years, 8 month, 5 days'\n",
            " '42 years, 5 month, 19 days' '26 years, 6 month, 10 days'\n",
            " '42 years, 7 month, 18 days' '43 years, 1 month, 11 days'\n",
            " '40 years, 7 month, 1 days' '44 years, 9 month, 18 days'\n",
            " '35 years, 4 month, 6 days' '24 years, 1 month, 4 days'\n",
            " '34 years, 3 month, 11 days' '49 years, 8 month, 12 days'\n",
            " '29 years, 4 month, 3 days' '46 years, 8 month, 3 days'\n",
            " '54 years, 1 month, 18 days' '33 years, 6 month, 13 days']\n"
          ]
        }
      ]
    },
    {
      "cell_type": "markdown",
      "source": [
        "#### Separates the age column into a component of the year, month and day"
      ],
      "metadata": {
        "id": "tEszMAmTVVWg"
      }
    },
    {
      "cell_type": "code",
      "source": [
        "import re\n",
        "\n",
        "def extract_age_components(age_str):\n",
        "    age_components = re.findall(r'\\d+', age_str)\n",
        "    years = int(age_components[0])\n",
        "    months = int(age_components[1])\n",
        "    days = int(age_components[2])\n",
        "    return years, months, days\n",
        "\n",
        "dataset['AGE'].apply(extract_age_components)"
      ],
      "metadata": {
        "colab": {
          "base_uri": "https://localhost:8080/"
        },
        "id": "QTPqL-i2VXF3",
        "outputId": "b7ffabd5-f071-4d4d-f59c-cacca9d098c8"
      },
      "execution_count": null,
      "outputs": [
        {
          "output_type": "execute_result",
          "data": {
            "text/plain": [
              "0      (37, 2, 11)\n",
              "1      (42, 3, 14)\n",
              "2      (48, 4, 25)\n",
              "3       (50, 7, 2)\n",
              "4       (20, 4, 8)\n",
              "          ...     \n",
              "925     (47, 6, 3)\n",
              "926     (29, 4, 3)\n",
              "927     (46, 8, 3)\n",
              "928    (54, 1, 18)\n",
              "929    (33, 6, 13)\n",
              "Name: AGE, Length: 930, dtype: object"
            ]
          },
          "metadata": {},
          "execution_count": 28
        }
      ]
    },
    {
      "cell_type": "markdown",
      "source": [
        "#### Calculate the date of birth based on components of the year, month, and day\n",
        "In this code, I changed Months and Years into the day by multiplying it with a rough approach factor. So, I assume every month contains 30 days and every year contains 365 days. Please note that this is an estimated approach and may not give accurate results if you want to do a more appropriate calculation. However, if the goal is to provide an estimated date of birth based on the age given, this approach can provide acceptable results. Then, I use the date() method to get a date object without time information, and then use isoformat() to change the date into the format \"YYYY-MM-DD\"."
      ],
      "metadata": {
        "id": "JTu3pocaWOi6"
      }
    },
    {
      "cell_type": "code",
      "source": [
        "from datetime import datetime, timedelta\n",
        "\n",
        "def calculate_birthdate(years, months, days):\n",
        "    reference_date = datetime.now()  # Menggunakan hari ini sebagai referensi\n",
        "    total_days = years * 365 + months * 30 + days  # Mengkonversi tahun dan bulan ke hari\n",
        "    birthdate = reference_date - timedelta(days=total_days)\n",
        "    return birthdate.date().isoformat()\n",
        "\n",
        "dataset['Birthdate'] = dataset['AGE'].apply(lambda age_str: calculate_birthdate(*extract_age_components(age_str)))"
      ],
      "metadata": {
        "id": "H4LSyRDMXCm8"
      },
      "execution_count": null,
      "outputs": []
    },
    {
      "cell_type": "code",
      "source": [
        "dataset['Birthdate'].head(10)"
      ],
      "metadata": {
        "colab": {
          "base_uri": "https://localhost:8080/"
        },
        "id": "kv-tD6anX_K8",
        "outputId": "b0ab4ac7-19ee-4b8b-d3e7-2c0182ba6f7e"
      },
      "execution_count": null,
      "outputs": [
        {
          "output_type": "execute_result",
          "data": {
            "text/plain": [
              "0    1986-04-17\n",
              "1    1981-03-16\n",
              "2    1975-02-05\n",
              "3    1972-11-30\n",
              "4    2003-02-15\n",
              "5    1986-05-11\n",
              "6    1980-05-27\n",
              "7    1995-10-14\n",
              "8    1997-05-11\n",
              "9    1991-02-25\n",
              "Name: Birthdate, dtype: object"
            ]
          },
          "metadata": {},
          "execution_count": 30
        }
      ]
    },
    {
      "cell_type": "code",
      "source": [
        "dataset['Birthdate'].info()"
      ],
      "metadata": {
        "colab": {
          "base_uri": "https://localhost:8080/"
        },
        "id": "iUWCBQUCZ2ZI",
        "outputId": "14846e5e-01e5-406f-b781-8cb6dacc9452"
      },
      "execution_count": null,
      "outputs": [
        {
          "output_type": "stream",
          "name": "stdout",
          "text": [
            "<class 'pandas.core.series.Series'>\n",
            "RangeIndex: 930 entries, 0 to 929\n",
            "Series name: Birthdate\n",
            "Non-Null Count  Dtype \n",
            "--------------  ----- \n",
            "930 non-null    object\n",
            "dtypes: object(1)\n",
            "memory usage: 7.4+ KB\n"
          ]
        }
      ]
    },
    {
      "cell_type": "markdown",
      "source": [
        "#### Drop the 'age' column from dataset and change the sequence of the column so that the 'Birthdate' column is in the position that was previously occupied by the 'Age' column column"
      ],
      "metadata": {
        "id": "k7ZYgyb2jCox"
      }
    },
    {
      "cell_type": "code",
      "source": [
        "dataset = dataset.drop('AGE', axis=1)\n",
        "dataset = dataset.reindex(columns=['Employee_ID', 'Name', 'GENDER', 'EDU_LVL', 'JOB_CATEGORY', 'Birthdate',\t'Score',\t'Phone Number',\t'Domicile_Province',\t'First_Day_Employment'])"
      ],
      "metadata": {
        "id": "Ui4-PecsiQS2"
      },
      "execution_count": null,
      "outputs": []
    },
    {
      "cell_type": "code",
      "source": [
        "dataset.head()"
      ],
      "metadata": {
        "colab": {
          "base_uri": "https://localhost:8080/",
          "height": 206
        },
        "id": "dwLYHaOPcET1",
        "outputId": "d710df89-c2b8-43fb-891d-6c7628dbcc89"
      },
      "execution_count": null,
      "outputs": [
        {
          "output_type": "execute_result",
          "data": {
            "text/plain": [
              "   Employee_ID            Name  GENDER EDU_LVL              JOB_CATEGORY  \\\n",
              "0            1      ClaireGute    Male      S1  Functional Expert Band 2   \n",
              "1            2   DarrinVanHuff    Male      S2                   Manager   \n",
              "2            3    SeanODonnell    Male    SLTA                     Staff   \n",
              "3            4  BrosinaHoffman    Male      S2                   Manager   \n",
              "4            5     AndrewAllen  Female      S1                   Trainee   \n",
              "\n",
              "    Birthdate  Score  Phone Number Domicile_Province First_Day_Employment  \n",
              "0  1986-04-17   3.98  628315242420       DKI Jakarta           2006-02-16  \n",
              "1  1981-03-16   4.15   85246790036           Jakarta           12-20-2002  \n",
              "2  1975-02-05   3.98   85246833311               JKT           1997-08-20  \n",
              "3  1972-11-30   3.23   85246990032         West Java           06/19/1993  \n",
              "4  2003-02-15   -      85247028027        Jawa Barat           06-25-2020  "
            ],
            "text/html": [
              "\n",
              "  <div id=\"df-df2b42f2-318c-4059-955d-1442d8badc13\">\n",
              "    <div class=\"colab-df-container\">\n",
              "      <div>\n",
              "<style scoped>\n",
              "    .dataframe tbody tr th:only-of-type {\n",
              "        vertical-align: middle;\n",
              "    }\n",
              "\n",
              "    .dataframe tbody tr th {\n",
              "        vertical-align: top;\n",
              "    }\n",
              "\n",
              "    .dataframe thead th {\n",
              "        text-align: right;\n",
              "    }\n",
              "</style>\n",
              "<table border=\"1\" class=\"dataframe\">\n",
              "  <thead>\n",
              "    <tr style=\"text-align: right;\">\n",
              "      <th></th>\n",
              "      <th>Employee_ID</th>\n",
              "      <th>Name</th>\n",
              "      <th>GENDER</th>\n",
              "      <th>EDU_LVL</th>\n",
              "      <th>JOB_CATEGORY</th>\n",
              "      <th>Birthdate</th>\n",
              "      <th>Score</th>\n",
              "      <th>Phone Number</th>\n",
              "      <th>Domicile_Province</th>\n",
              "      <th>First_Day_Employment</th>\n",
              "    </tr>\n",
              "  </thead>\n",
              "  <tbody>\n",
              "    <tr>\n",
              "      <th>0</th>\n",
              "      <td>1</td>\n",
              "      <td>ClaireGute</td>\n",
              "      <td>Male</td>\n",
              "      <td>S1</td>\n",
              "      <td>Functional Expert Band 2</td>\n",
              "      <td>1986-04-17</td>\n",
              "      <td>3.98</td>\n",
              "      <td>628315242420</td>\n",
              "      <td>DKI Jakarta</td>\n",
              "      <td>2006-02-16</td>\n",
              "    </tr>\n",
              "    <tr>\n",
              "      <th>1</th>\n",
              "      <td>2</td>\n",
              "      <td>DarrinVanHuff</td>\n",
              "      <td>Male</td>\n",
              "      <td>S2</td>\n",
              "      <td>Manager</td>\n",
              "      <td>1981-03-16</td>\n",
              "      <td>4.15</td>\n",
              "      <td>85246790036</td>\n",
              "      <td>Jakarta</td>\n",
              "      <td>12-20-2002</td>\n",
              "    </tr>\n",
              "    <tr>\n",
              "      <th>2</th>\n",
              "      <td>3</td>\n",
              "      <td>SeanODonnell</td>\n",
              "      <td>Male</td>\n",
              "      <td>SLTA</td>\n",
              "      <td>Staff</td>\n",
              "      <td>1975-02-05</td>\n",
              "      <td>3.98</td>\n",
              "      <td>85246833311</td>\n",
              "      <td>JKT</td>\n",
              "      <td>1997-08-20</td>\n",
              "    </tr>\n",
              "    <tr>\n",
              "      <th>3</th>\n",
              "      <td>4</td>\n",
              "      <td>BrosinaHoffman</td>\n",
              "      <td>Male</td>\n",
              "      <td>S2</td>\n",
              "      <td>Manager</td>\n",
              "      <td>1972-11-30</td>\n",
              "      <td>3.23</td>\n",
              "      <td>85246990032</td>\n",
              "      <td>West Java</td>\n",
              "      <td>06/19/1993</td>\n",
              "    </tr>\n",
              "    <tr>\n",
              "      <th>4</th>\n",
              "      <td>5</td>\n",
              "      <td>AndrewAllen</td>\n",
              "      <td>Female</td>\n",
              "      <td>S1</td>\n",
              "      <td>Trainee</td>\n",
              "      <td>2003-02-15</td>\n",
              "      <td>-</td>\n",
              "      <td>85247028027</td>\n",
              "      <td>Jawa Barat</td>\n",
              "      <td>06-25-2020</td>\n",
              "    </tr>\n",
              "  </tbody>\n",
              "</table>\n",
              "</div>\n",
              "      <button class=\"colab-df-convert\" onclick=\"convertToInteractive('df-df2b42f2-318c-4059-955d-1442d8badc13')\"\n",
              "              title=\"Convert this dataframe to an interactive table.\"\n",
              "              style=\"display:none;\">\n",
              "        \n",
              "  <svg xmlns=\"http://www.w3.org/2000/svg\" height=\"24px\"viewBox=\"0 0 24 24\"\n",
              "       width=\"24px\">\n",
              "    <path d=\"M0 0h24v24H0V0z\" fill=\"none\"/>\n",
              "    <path d=\"M18.56 5.44l.94 2.06.94-2.06 2.06-.94-2.06-.94-.94-2.06-.94 2.06-2.06.94zm-11 1L8.5 8.5l.94-2.06 2.06-.94-2.06-.94L8.5 2.5l-.94 2.06-2.06.94zm10 10l.94 2.06.94-2.06 2.06-.94-2.06-.94-.94-2.06-.94 2.06-2.06.94z\"/><path d=\"M17.41 7.96l-1.37-1.37c-.4-.4-.92-.59-1.43-.59-.52 0-1.04.2-1.43.59L10.3 9.45l-7.72 7.72c-.78.78-.78 2.05 0 2.83L4 21.41c.39.39.9.59 1.41.59.51 0 1.02-.2 1.41-.59l7.78-7.78 2.81-2.81c.8-.78.8-2.07 0-2.86zM5.41 20L4 18.59l7.72-7.72 1.47 1.35L5.41 20z\"/>\n",
              "  </svg>\n",
              "      </button>\n",
              "      \n",
              "  <style>\n",
              "    .colab-df-container {\n",
              "      display:flex;\n",
              "      flex-wrap:wrap;\n",
              "      gap: 12px;\n",
              "    }\n",
              "\n",
              "    .colab-df-convert {\n",
              "      background-color: #E8F0FE;\n",
              "      border: none;\n",
              "      border-radius: 50%;\n",
              "      cursor: pointer;\n",
              "      display: none;\n",
              "      fill: #1967D2;\n",
              "      height: 32px;\n",
              "      padding: 0 0 0 0;\n",
              "      width: 32px;\n",
              "    }\n",
              "\n",
              "    .colab-df-convert:hover {\n",
              "      background-color: #E2EBFA;\n",
              "      box-shadow: 0px 1px 2px rgba(60, 64, 67, 0.3), 0px 1px 3px 1px rgba(60, 64, 67, 0.15);\n",
              "      fill: #174EA6;\n",
              "    }\n",
              "\n",
              "    [theme=dark] .colab-df-convert {\n",
              "      background-color: #3B4455;\n",
              "      fill: #D2E3FC;\n",
              "    }\n",
              "\n",
              "    [theme=dark] .colab-df-convert:hover {\n",
              "      background-color: #434B5C;\n",
              "      box-shadow: 0px 1px 3px 1px rgba(0, 0, 0, 0.15);\n",
              "      filter: drop-shadow(0px 1px 2px rgba(0, 0, 0, 0.3));\n",
              "      fill: #FFFFFF;\n",
              "    }\n",
              "  </style>\n",
              "\n",
              "      <script>\n",
              "        const buttonEl =\n",
              "          document.querySelector('#df-df2b42f2-318c-4059-955d-1442d8badc13 button.colab-df-convert');\n",
              "        buttonEl.style.display =\n",
              "          google.colab.kernel.accessAllowed ? 'block' : 'none';\n",
              "\n",
              "        async function convertToInteractive(key) {\n",
              "          const element = document.querySelector('#df-df2b42f2-318c-4059-955d-1442d8badc13');\n",
              "          const dataTable =\n",
              "            await google.colab.kernel.invokeFunction('convertToInteractive',\n",
              "                                                     [key], {});\n",
              "          if (!dataTable) return;\n",
              "\n",
              "          const docLinkHtml = 'Like what you see? Visit the ' +\n",
              "            '<a target=\"_blank\" href=https://colab.research.google.com/notebooks/data_table.ipynb>data table notebook</a>'\n",
              "            + ' to learn more about interactive tables.';\n",
              "          element.innerHTML = '';\n",
              "          dataTable['output_type'] = 'display_data';\n",
              "          await google.colab.output.renderOutput(dataTable, element);\n",
              "          const docLink = document.createElement('div');\n",
              "          docLink.innerHTML = docLinkHtml;\n",
              "          element.appendChild(docLink);\n",
              "        }\n",
              "      </script>\n",
              "    </div>\n",
              "  </div>\n",
              "  "
            ]
          },
          "metadata": {},
          "execution_count": 33
        }
      ]
    },
    {
      "cell_type": "markdown",
      "source": [
        "### Cleaning data in the 'Score' column"
      ],
      "metadata": {
        "id": "AsjCAB3yYPo7"
      }
    },
    {
      "cell_type": "markdown",
      "source": [
        "#### Check information from the column"
      ],
      "metadata": {
        "id": "GSHUrLL2-4Ea"
      }
    },
    {
      "cell_type": "code",
      "source": [
        "dataset['Score'].info()"
      ],
      "metadata": {
        "colab": {
          "base_uri": "https://localhost:8080/"
        },
        "id": "kgBFVBZCjae7",
        "outputId": "317350ca-9bd7-4ad9-d9e3-86ccdc63e1f0"
      },
      "execution_count": null,
      "outputs": [
        {
          "output_type": "stream",
          "name": "stdout",
          "text": [
            "<class 'pandas.core.series.Series'>\n",
            "RangeIndex: 930 entries, 0 to 929\n",
            "Series name: Score\n",
            "Non-Null Count  Dtype \n",
            "--------------  ----- \n",
            "920 non-null    object\n",
            "dtypes: object(1)\n",
            "memory usage: 7.4+ KB\n"
          ]
        }
      ]
    },
    {
      "cell_type": "markdown",
      "source": [],
      "metadata": {
        "id": "x1_EKe4w-5e5"
      }
    },
    {
      "cell_type": "markdown",
      "source": [
        "#### Checking the null in the 'Score' column"
      ],
      "metadata": {
        "id": "3kqHgaE8_ESG"
      }
    },
    {
      "cell_type": "code",
      "source": [
        "dataset['Score'].isnull().sum()"
      ],
      "metadata": {
        "colab": {
          "base_uri": "https://localhost:8080/"
        },
        "id": "QTo1Ote_jm5a",
        "outputId": "d5d903ed-3a6a-41b0-bbdf-f8826b4c6c73"
      },
      "execution_count": null,
      "outputs": [
        {
          "output_type": "execute_result",
          "data": {
            "text/plain": [
              "10"
            ]
          },
          "metadata": {},
          "execution_count": 35
        }
      ]
    },
    {
      "cell_type": "markdown",
      "source": [
        "#### Convert the 'Score' column to the numerical data type\n",
        "Conversion of the 'Score' column to the numerical data type is needed because if there is a value of a string type in the column, then the operation to replace the null value with an average value will cause an error."
      ],
      "metadata": {
        "id": "ixPvRGN5Baxq"
      }
    },
    {
      "cell_type": "code",
      "source": [
        "dataset['Score'] = pd.to_numeric(dataset['Score'], errors='coerce')"
      ],
      "metadata": {
        "id": "kV2ie_YDBYBJ"
      },
      "execution_count": null,
      "outputs": []
    },
    {
      "cell_type": "markdown",
      "source": [
        "#### Replace the NULL in the 'Score' column with an average value\n",
        "The reason to replace the null value with an average value of a dataset column is to fill the lost value with an estimated that can represent the characteristics of existing data. Replacing it with an average value is one of the commonly used approaches."
      ],
      "metadata": {
        "id": "APBYcUPr_iV9"
      }
    },
    {
      "cell_type": "code",
      "source": [
        "dataset['Score'] = dataset['Score'].fillna(dataset['Score'].mean())"
      ],
      "metadata": {
        "id": "SFIb3DOJ_G1S"
      },
      "execution_count": null,
      "outputs": []
    },
    {
      "cell_type": "markdown",
      "source": [
        "#### Re-checking null in the 'score' column"
      ],
      "metadata": {
        "id": "p3a3iyY-CUMV"
      }
    },
    {
      "cell_type": "code",
      "source": [
        "dataset['Score'].isnull().sum()"
      ],
      "metadata": {
        "colab": {
          "base_uri": "https://localhost:8080/"
        },
        "id": "WqEqjB7MCT-h",
        "outputId": "4c294910-dc20-42a5-ea85-5b832e62cdcf"
      },
      "execution_count": null,
      "outputs": [
        {
          "output_type": "execute_result",
          "data": {
            "text/plain": [
              "0"
            ]
          },
          "metadata": {},
          "execution_count": 38
        }
      ]
    },
    {
      "cell_type": "markdown",
      "source": [
        "### Cleaning data in the 'Phone Number' column"
      ],
      "metadata": {
        "id": "eqk-76duCgRK"
      }
    },
    {
      "cell_type": "code",
      "source": [
        "dataset['Phone Number'].info()"
      ],
      "metadata": {
        "colab": {
          "base_uri": "https://localhost:8080/"
        },
        "id": "SvB8IuDkCho5",
        "outputId": "3fb5a6b3-d4c9-4891-89cb-eda43bd85e83"
      },
      "execution_count": null,
      "outputs": [
        {
          "output_type": "stream",
          "name": "stdout",
          "text": [
            "<class 'pandas.core.series.Series'>\n",
            "RangeIndex: 930 entries, 0 to 929\n",
            "Series name: Phone Number\n",
            "Non-Null Count  Dtype\n",
            "--------------  -----\n",
            "930 non-null    int64\n",
            "dtypes: int64(1)\n",
            "memory usage: 7.4 KB\n"
          ]
        }
      ]
    },
    {
      "cell_type": "markdown",
      "source": [
        "#### Change the data type column 'Phone Number' to String"
      ],
      "metadata": {
        "id": "wja7SOieMt2h"
      }
    },
    {
      "cell_type": "code",
      "source": [
        "dataset['Phone Number'] = dataset['Phone Number'].astype(str)"
      ],
      "metadata": {
        "id": "P3BlMP3pHkEk"
      },
      "execution_count": null,
      "outputs": []
    },
    {
      "cell_type": "markdown",
      "source": [
        "#### Extraction telephone number patterns and count the number of telephone number emergence"
      ],
      "metadata": {
        "id": "FiM27-z5Pdfd"
      }
    },
    {
      "cell_type": "code",
      "source": [
        "pola = r'^(\\+62|^08|^62|^8)'\n",
        "dataset['Phone Number'].str.extract(pola).value_counts()"
      ],
      "metadata": {
        "colab": {
          "base_uri": "https://localhost:8080/"
        },
        "id": "QmA6FBCcPmU5",
        "outputId": "d8bf79e0-47f2-4d3f-e2c1-a22047c02479"
      },
      "execution_count": null,
      "outputs": [
        {
          "output_type": "execute_result",
          "data": {
            "text/plain": [
              "8     557\n",
              "62    373\n",
              "dtype: int64"
            ]
          },
          "metadata": {},
          "execution_count": 41
        }
      ]
    },
    {
      "cell_type": "markdown",
      "source": [
        "#### Change unwanted prefix with a consistent prefix\n"
      ],
      "metadata": {
        "id": "RQUGzg6hQKvs"
      }
    },
    {
      "cell_type": "code",
      "source": [
        "dataset['Phone Number'] = dataset['Phone Number'].str.replace(pola, '+62', regex=True)\n",
        "dataset['Phone Number'].str.extract(pola).value_counts()"
      ],
      "metadata": {
        "colab": {
          "base_uri": "https://localhost:8080/"
        },
        "id": "zgjqs8PCLs6s",
        "outputId": "7ee24c9f-7c2b-4fa3-cc9e-6a646c0e742e"
      },
      "execution_count": null,
      "outputs": [
        {
          "output_type": "execute_result",
          "data": {
            "text/plain": [
              "+62    930\n",
              "dtype: int64"
            ]
          },
          "metadata": {},
          "execution_count": 42
        }
      ]
    },
    {
      "cell_type": "markdown",
      "source": [
        "### Cleaning data in the 'Domicile_Province' column"
      ],
      "metadata": {
        "id": "ddy8YfVeQmLT"
      }
    },
    {
      "cell_type": "code",
      "source": [
        "print(dataset['Domicile_Province'].unique())"
      ],
      "metadata": {
        "colab": {
          "base_uri": "https://localhost:8080/"
        },
        "id": "SonWVzNBQ_NQ",
        "outputId": "19103d57-eb4b-4128-ea4f-0465c0ecea1a"
      },
      "execution_count": null,
      "outputs": [
        {
          "output_type": "stream",
          "name": "stdout",
          "text": [
            "['DKI Jakarta' 'Jakarta' 'JKT' 'West Java' 'Jawa Barat' 'Jabar' 'Bandung'\n",
            " 'Jakarta Selatan' 'South Jakarta' 'East Jakarta' 'Purwokerto'\n",
            " 'Purwakarta' 'Yogyakarta' 'DIY' 'Depok' 'Bogor' 'Bekasi'\n",
            " 'Tangerang Selatan' 'Kalideres' 'Sukabumi' 'Bali' 'Denpasar']\n"
          ]
        }
      ]
    },
    {
      "cell_type": "markdown",
      "source": [
        "#### Make a Dictionary for Mapping"
      ],
      "metadata": {
        "id": "YFz9XF9HQ61k"
      }
    },
    {
      "cell_type": "code",
      "source": [
        "mapping = {\n",
        "    'DKI Jakarta': 'DKI Jakarta',\n",
        "    'Jakarta': 'DKI Jakarta',\n",
        "    'JKT': 'DKI Jakarta',\n",
        "    'West Java': 'Jawa Barat',\n",
        "    'Jawa Barat': 'Jawa Barat',\n",
        "    'Jabar': 'Jawa Barat',\n",
        "    'Bandung': 'Jawa Barat',\n",
        "    'Jakarta Selatan': 'DKI Jakarta',\n",
        "    'South Jakarta': 'DKI Jakarta',\n",
        "    'East Jakarta': 'DKI Jakarta',\n",
        "    'Purwokerto': 'Jawa Tengah',\n",
        "    'Purwakarta': 'Jawa Barat',\n",
        "    'Yogyakarta': 'DI Yogyakarta',\n",
        "    'DIY': 'DI Yogyakarta',\n",
        "    'Depok': 'Jawa Barat',\n",
        "    'Bogor': 'Jawa Barat',\n",
        "    'Bekasi': 'Jawa Barat',\n",
        "    'Tangerang Selatan': 'Banten',\n",
        "    'Kalideres': 'DKI Jakarta',\n",
        "    'Sukabumi': 'Jawa Barat',\n",
        "    'Bali': 'Bali',\n",
        "    'Denpasar': 'Bali'\n",
        "}"
      ],
      "metadata": {
        "id": "fEXqvr1LSW9f"
      },
      "execution_count": null,
      "outputs": []
    },
    {
      "cell_type": "markdown",
      "source": [
        "#### Change the column value 'Domicile_Province' using mapping"
      ],
      "metadata": {
        "id": "-BYfjqyLSfEg"
      }
    },
    {
      "cell_type": "code",
      "source": [
        "dataset['Domicile_Province'] = dataset['Domicile_Province'].map(mapping)"
      ],
      "metadata": {
        "id": "Zrf0h3YeSqBF"
      },
      "execution_count": null,
      "outputs": []
    },
    {
      "cell_type": "code",
      "source": [
        "print(dataset['Domicile_Province'].unique())"
      ],
      "metadata": {
        "colab": {
          "base_uri": "https://localhost:8080/"
        },
        "id": "8SR-4aEQS3cu",
        "outputId": "4bff37a3-8bc7-449e-e847-7390510931cc"
      },
      "execution_count": null,
      "outputs": [
        {
          "output_type": "stream",
          "name": "stdout",
          "text": [
            "['DKI Jakarta' 'Jawa Barat' 'Jawa Tengah' 'DI Yogyakarta' 'Banten' 'Bali']\n"
          ]
        }
      ]
    },
    {
      "cell_type": "markdown",
      "source": [
        "### Cleaning data in the 'First_Day_Employment' column"
      ],
      "metadata": {
        "id": "fTcU7fTeTHR_"
      }
    },
    {
      "cell_type": "markdown",
      "source": [
        "#### Determine the expected pattern from the date format"
      ],
      "metadata": {
        "id": "61J_xYnAT_D-"
      }
    },
    {
      "cell_type": "code",
      "source": [
        "dataset['First_Day_Employment'].isnull().value_counts()"
      ],
      "metadata": {
        "colab": {
          "base_uri": "https://localhost:8080/"
        },
        "id": "RdwQV3DiWLiK",
        "outputId": "a5a82878-bb33-461e-f977-ac10d9d338b0"
      },
      "execution_count": null,
      "outputs": [
        {
          "output_type": "execute_result",
          "data": {
            "text/plain": [
              "False    930\n",
              "Name: First_Day_Employment, dtype: int64"
            ]
          },
          "metadata": {},
          "execution_count": 47
        }
      ]
    },
    {
      "cell_type": "code",
      "source": [
        "dataset['First_Day_Employment'].head(10)"
      ],
      "metadata": {
        "colab": {
          "base_uri": "https://localhost:8080/"
        },
        "id": "oGtzfpJVAlwC",
        "outputId": "4acc5f7e-c52f-4f12-f0df-187dacaeebd1"
      },
      "execution_count": null,
      "outputs": [
        {
          "output_type": "execute_result",
          "data": {
            "text/plain": [
              "0    2006-02-16\n",
              "1    12-20-2002\n",
              "2    1997-08-20\n",
              "3    06/19/1993\n",
              "4    06-25-2020\n",
              "5    02-15-2006\n",
              "6    2003-03-22\n",
              "7    2020-06-19\n",
              "8    02/24/2020\n",
              "9    10-25-2015\n",
              "Name: First_Day_Employment, dtype: object"
            ]
          },
          "metadata": {},
          "execution_count": 48
        }
      ]
    },
    {
      "cell_type": "markdown",
      "source": [
        "#### Make a special function to convert the date format"
      ],
      "metadata": {
        "id": "QQFn2dokBZBd"
      }
    },
    {
      "cell_type": "code",
      "source": [
        "from dateutil.parser import parse\n",
        "def custom_date_parser(date_str):\n",
        "    try:\n",
        "        return parse(date_str)\n",
        "    except:\n",
        "        return pd.NaT"
      ],
      "metadata": {
        "id": "D5ABoNlwBRjh"
      },
      "execution_count": null,
      "outputs": []
    },
    {
      "cell_type": "markdown",
      "source": [
        "#### Conversion Value Using Special Functions"
      ],
      "metadata": {
        "id": "Ojmy7_t6BkP3"
      }
    },
    {
      "cell_type": "code",
      "source": [
        "dataset['First_Day_Employment'] = dataset['First_Day_Employment'].apply(custom_date_parser)"
      ],
      "metadata": {
        "id": "aACpaHR4BiRS"
      },
      "execution_count": null,
      "outputs": []
    },
    {
      "cell_type": "markdown",
      "source": [
        "#### Then, print data and check whether there is data that is in the column"
      ],
      "metadata": {
        "id": "x7jWIjHvCFwA"
      }
    },
    {
      "cell_type": "code",
      "source": [
        "dataset['First_Day_Employment'].head(10)"
      ],
      "metadata": {
        "colab": {
          "base_uri": "https://localhost:8080/"
        },
        "id": "5HdW1sCHCQBZ",
        "outputId": "e5f21057-1519-4ba2-abe4-c3bac299c4af"
      },
      "execution_count": null,
      "outputs": [
        {
          "output_type": "execute_result",
          "data": {
            "text/plain": [
              "0   2006-02-16\n",
              "1   2002-12-20\n",
              "2   1997-08-20\n",
              "3   1993-06-19\n",
              "4   2020-06-25\n",
              "5   2006-02-15\n",
              "6   2003-03-22\n",
              "7   2020-06-19\n",
              "8   2020-02-24\n",
              "9   2015-10-25\n",
              "Name: First_Day_Employment, dtype: datetime64[ns]"
            ]
          },
          "metadata": {},
          "execution_count": 51
        }
      ]
    },
    {
      "cell_type": "code",
      "source": [
        "dataset['First_Day_Employment'].isnull().value_counts()"
      ],
      "metadata": {
        "colab": {
          "base_uri": "https://localhost:8080/"
        },
        "id": "NDoiFaAtCSIP",
        "outputId": "2d3e0394-80df-465a-cd6c-f3cbc84ad223"
      },
      "execution_count": null,
      "outputs": [
        {
          "output_type": "execute_result",
          "data": {
            "text/plain": [
              "False    930\n",
              "Name: First_Day_Employment, dtype: int64"
            ]
          },
          "metadata": {},
          "execution_count": 52
        }
      ]
    },
    {
      "cell_type": "markdown",
      "source": [
        "### Check data after cleaning"
      ],
      "metadata": {
        "id": "OcGfQIN7T5Hx"
      }
    },
    {
      "cell_type": "code",
      "source": [
        "dataset.head(20)"
      ],
      "metadata": {
        "colab": {
          "base_uri": "https://localhost:8080/",
          "height": 677
        },
        "id": "rf5XE7x4T5Hy",
        "outputId": "f03847e5-b314-4615-cfe4-c00d7311c08f"
      },
      "execution_count": null,
      "outputs": [
        {
          "output_type": "execute_result",
          "data": {
            "text/plain": [
              "    Employee_ID               Name  GENDER EDU_LVL              JOB_CATEGORY  \\\n",
              "0             1         ClaireGute    Male      S1  Functional Expert Band 2   \n",
              "1             2      DarrinVanHuff    Male      S2                   Manager   \n",
              "2             3       SeanODonnell    Male    SLTA                     Staff   \n",
              "3             4     BrosinaHoffman    Male      S2                   Manager   \n",
              "4             5        AndrewAllen  Female      S1                   Trainee   \n",
              "5             6        IreneMaddox    Male      S1                Supervisor   \n",
              "6             7       HaroldPawlan    Male      S1       Senior Staff Band 2   \n",
              "7             8           PeteKriz    Male      S1                     Staff   \n",
              "8             9     AlejandroGrove    Male      S1                     Staff   \n",
              "9            10  ZuschussDonatelli  Female      S1                     Staff   \n",
              "10           11           KenBlack  Female      D3                     Staff   \n",
              "11           12     SandraFlanagan    Male      S1                Supervisor   \n",
              "12           13         EmilyBurns    Male      S1                Supervisor   \n",
              "13           14       EricHoffmann  Female      S1  Functional Expert Band 2   \n",
              "14           15     TracyBlumstein  Female      S1                     Staff   \n",
              "15           16        MattAbelman    Male      D3                   Manager   \n",
              "16           17           GeneHale    Male      S1  Functional Expert Band 2   \n",
              "17           18        SteveNguyen    Male      S1                Supervisor   \n",
              "18           19      LindaCazamias  Female      S1                     Staff   \n",
              "19           20        RubenAusman    Male      S2                   Manager   \n",
              "\n",
              "     Birthdate     Score    Phone Number Domicile_Province  \\\n",
              "0   1986-04-17  3.980000   +628315242420       DKI Jakarta   \n",
              "1   1981-03-16  4.150000   +625246790036       DKI Jakarta   \n",
              "2   1975-02-05  3.980000   +625246833311       DKI Jakarta   \n",
              "3   1972-11-30  3.230000   +625246990032        Jawa Barat   \n",
              "4   2003-02-15  3.963879   +625247028027        Jawa Barat   \n",
              "5   1986-05-11  4.660000   +625247198103        Jawa Barat   \n",
              "6   1980-05-27  4.710000  +6285247276106        Jawa Barat   \n",
              "7   1995-10-14  4.050000  +6285247353711       DKI Jakarta   \n",
              "8   1997-05-11  4.860000  +6285247484084       DKI Jakarta   \n",
              "9   1991-02-25  3.760000  +6285247594109       DKI Jakarta   \n",
              "10  1982-03-06  3.420000  +6285247668025       Jawa Tengah   \n",
              "11  1982-11-08  4.070000  +6285247719140        Jawa Barat   \n",
              "12  1994-01-11  4.290000  +6285247884057     DI Yogyakarta   \n",
              "13  1991-04-21  4.000000   +625247990049     DI Yogyakarta   \n",
              "14  1991-10-05  4.070000   +625247919140        Jawa Barat   \n",
              "15  1982-12-09  3.830000   +625247977095        Jawa Barat   \n",
              "16  1979-04-21  4.260000   +625247975080        Jawa Barat   \n",
              "17  1987-11-17  3.900000   +625247977041            Banten   \n",
              "18  1998-09-08  3.980000   +625247960540       DKI Jakarta   \n",
              "19  1988-10-19  4.140000   +625247990049        Jawa Barat   \n",
              "\n",
              "   First_Day_Employment  \n",
              "0            2006-02-16  \n",
              "1            2002-12-20  \n",
              "2            1997-08-20  \n",
              "3            1993-06-19  \n",
              "4            2020-06-25  \n",
              "5            2006-02-15  \n",
              "6            2003-03-22  \n",
              "7            2020-06-19  \n",
              "8            2020-02-24  \n",
              "9            2015-10-25  \n",
              "10           2005-06-23  \n",
              "11           2005-07-17  \n",
              "12           2015-03-26  \n",
              "13           2011-01-20  \n",
              "14           2015-09-16  \n",
              "15           2003-05-26  \n",
              "16           2002-11-19  \n",
              "17           2010-06-26  \n",
              "18           2020-12-21  \n",
              "19           2012-03-20  "
            ],
            "text/html": [
              "\n",
              "  <div id=\"df-12264aff-fce3-417a-804f-bae9582a82de\">\n",
              "    <div class=\"colab-df-container\">\n",
              "      <div>\n",
              "<style scoped>\n",
              "    .dataframe tbody tr th:only-of-type {\n",
              "        vertical-align: middle;\n",
              "    }\n",
              "\n",
              "    .dataframe tbody tr th {\n",
              "        vertical-align: top;\n",
              "    }\n",
              "\n",
              "    .dataframe thead th {\n",
              "        text-align: right;\n",
              "    }\n",
              "</style>\n",
              "<table border=\"1\" class=\"dataframe\">\n",
              "  <thead>\n",
              "    <tr style=\"text-align: right;\">\n",
              "      <th></th>\n",
              "      <th>Employee_ID</th>\n",
              "      <th>Name</th>\n",
              "      <th>GENDER</th>\n",
              "      <th>EDU_LVL</th>\n",
              "      <th>JOB_CATEGORY</th>\n",
              "      <th>Birthdate</th>\n",
              "      <th>Score</th>\n",
              "      <th>Phone Number</th>\n",
              "      <th>Domicile_Province</th>\n",
              "      <th>First_Day_Employment</th>\n",
              "    </tr>\n",
              "  </thead>\n",
              "  <tbody>\n",
              "    <tr>\n",
              "      <th>0</th>\n",
              "      <td>1</td>\n",
              "      <td>ClaireGute</td>\n",
              "      <td>Male</td>\n",
              "      <td>S1</td>\n",
              "      <td>Functional Expert Band 2</td>\n",
              "      <td>1986-04-17</td>\n",
              "      <td>3.980000</td>\n",
              "      <td>+628315242420</td>\n",
              "      <td>DKI Jakarta</td>\n",
              "      <td>2006-02-16</td>\n",
              "    </tr>\n",
              "    <tr>\n",
              "      <th>1</th>\n",
              "      <td>2</td>\n",
              "      <td>DarrinVanHuff</td>\n",
              "      <td>Male</td>\n",
              "      <td>S2</td>\n",
              "      <td>Manager</td>\n",
              "      <td>1981-03-16</td>\n",
              "      <td>4.150000</td>\n",
              "      <td>+625246790036</td>\n",
              "      <td>DKI Jakarta</td>\n",
              "      <td>2002-12-20</td>\n",
              "    </tr>\n",
              "    <tr>\n",
              "      <th>2</th>\n",
              "      <td>3</td>\n",
              "      <td>SeanODonnell</td>\n",
              "      <td>Male</td>\n",
              "      <td>SLTA</td>\n",
              "      <td>Staff</td>\n",
              "      <td>1975-02-05</td>\n",
              "      <td>3.980000</td>\n",
              "      <td>+625246833311</td>\n",
              "      <td>DKI Jakarta</td>\n",
              "      <td>1997-08-20</td>\n",
              "    </tr>\n",
              "    <tr>\n",
              "      <th>3</th>\n",
              "      <td>4</td>\n",
              "      <td>BrosinaHoffman</td>\n",
              "      <td>Male</td>\n",
              "      <td>S2</td>\n",
              "      <td>Manager</td>\n",
              "      <td>1972-11-30</td>\n",
              "      <td>3.230000</td>\n",
              "      <td>+625246990032</td>\n",
              "      <td>Jawa Barat</td>\n",
              "      <td>1993-06-19</td>\n",
              "    </tr>\n",
              "    <tr>\n",
              "      <th>4</th>\n",
              "      <td>5</td>\n",
              "      <td>AndrewAllen</td>\n",
              "      <td>Female</td>\n",
              "      <td>S1</td>\n",
              "      <td>Trainee</td>\n",
              "      <td>2003-02-15</td>\n",
              "      <td>3.963879</td>\n",
              "      <td>+625247028027</td>\n",
              "      <td>Jawa Barat</td>\n",
              "      <td>2020-06-25</td>\n",
              "    </tr>\n",
              "    <tr>\n",
              "      <th>5</th>\n",
              "      <td>6</td>\n",
              "      <td>IreneMaddox</td>\n",
              "      <td>Male</td>\n",
              "      <td>S1</td>\n",
              "      <td>Supervisor</td>\n",
              "      <td>1986-05-11</td>\n",
              "      <td>4.660000</td>\n",
              "      <td>+625247198103</td>\n",
              "      <td>Jawa Barat</td>\n",
              "      <td>2006-02-15</td>\n",
              "    </tr>\n",
              "    <tr>\n",
              "      <th>6</th>\n",
              "      <td>7</td>\n",
              "      <td>HaroldPawlan</td>\n",
              "      <td>Male</td>\n",
              "      <td>S1</td>\n",
              "      <td>Senior Staff Band 2</td>\n",
              "      <td>1980-05-27</td>\n",
              "      <td>4.710000</td>\n",
              "      <td>+6285247276106</td>\n",
              "      <td>Jawa Barat</td>\n",
              "      <td>2003-03-22</td>\n",
              "    </tr>\n",
              "    <tr>\n",
              "      <th>7</th>\n",
              "      <td>8</td>\n",
              "      <td>PeteKriz</td>\n",
              "      <td>Male</td>\n",
              "      <td>S1</td>\n",
              "      <td>Staff</td>\n",
              "      <td>1995-10-14</td>\n",
              "      <td>4.050000</td>\n",
              "      <td>+6285247353711</td>\n",
              "      <td>DKI Jakarta</td>\n",
              "      <td>2020-06-19</td>\n",
              "    </tr>\n",
              "    <tr>\n",
              "      <th>8</th>\n",
              "      <td>9</td>\n",
              "      <td>AlejandroGrove</td>\n",
              "      <td>Male</td>\n",
              "      <td>S1</td>\n",
              "      <td>Staff</td>\n",
              "      <td>1997-05-11</td>\n",
              "      <td>4.860000</td>\n",
              "      <td>+6285247484084</td>\n",
              "      <td>DKI Jakarta</td>\n",
              "      <td>2020-02-24</td>\n",
              "    </tr>\n",
              "    <tr>\n",
              "      <th>9</th>\n",
              "      <td>10</td>\n",
              "      <td>ZuschussDonatelli</td>\n",
              "      <td>Female</td>\n",
              "      <td>S1</td>\n",
              "      <td>Staff</td>\n",
              "      <td>1991-02-25</td>\n",
              "      <td>3.760000</td>\n",
              "      <td>+6285247594109</td>\n",
              "      <td>DKI Jakarta</td>\n",
              "      <td>2015-10-25</td>\n",
              "    </tr>\n",
              "    <tr>\n",
              "      <th>10</th>\n",
              "      <td>11</td>\n",
              "      <td>KenBlack</td>\n",
              "      <td>Female</td>\n",
              "      <td>D3</td>\n",
              "      <td>Staff</td>\n",
              "      <td>1982-03-06</td>\n",
              "      <td>3.420000</td>\n",
              "      <td>+6285247668025</td>\n",
              "      <td>Jawa Tengah</td>\n",
              "      <td>2005-06-23</td>\n",
              "    </tr>\n",
              "    <tr>\n",
              "      <th>11</th>\n",
              "      <td>12</td>\n",
              "      <td>SandraFlanagan</td>\n",
              "      <td>Male</td>\n",
              "      <td>S1</td>\n",
              "      <td>Supervisor</td>\n",
              "      <td>1982-11-08</td>\n",
              "      <td>4.070000</td>\n",
              "      <td>+6285247719140</td>\n",
              "      <td>Jawa Barat</td>\n",
              "      <td>2005-07-17</td>\n",
              "    </tr>\n",
              "    <tr>\n",
              "      <th>12</th>\n",
              "      <td>13</td>\n",
              "      <td>EmilyBurns</td>\n",
              "      <td>Male</td>\n",
              "      <td>S1</td>\n",
              "      <td>Supervisor</td>\n",
              "      <td>1994-01-11</td>\n",
              "      <td>4.290000</td>\n",
              "      <td>+6285247884057</td>\n",
              "      <td>DI Yogyakarta</td>\n",
              "      <td>2015-03-26</td>\n",
              "    </tr>\n",
              "    <tr>\n",
              "      <th>13</th>\n",
              "      <td>14</td>\n",
              "      <td>EricHoffmann</td>\n",
              "      <td>Female</td>\n",
              "      <td>S1</td>\n",
              "      <td>Functional Expert Band 2</td>\n",
              "      <td>1991-04-21</td>\n",
              "      <td>4.000000</td>\n",
              "      <td>+625247990049</td>\n",
              "      <td>DI Yogyakarta</td>\n",
              "      <td>2011-01-20</td>\n",
              "    </tr>\n",
              "    <tr>\n",
              "      <th>14</th>\n",
              "      <td>15</td>\n",
              "      <td>TracyBlumstein</td>\n",
              "      <td>Female</td>\n",
              "      <td>S1</td>\n",
              "      <td>Staff</td>\n",
              "      <td>1991-10-05</td>\n",
              "      <td>4.070000</td>\n",
              "      <td>+625247919140</td>\n",
              "      <td>Jawa Barat</td>\n",
              "      <td>2015-09-16</td>\n",
              "    </tr>\n",
              "    <tr>\n",
              "      <th>15</th>\n",
              "      <td>16</td>\n",
              "      <td>MattAbelman</td>\n",
              "      <td>Male</td>\n",
              "      <td>D3</td>\n",
              "      <td>Manager</td>\n",
              "      <td>1982-12-09</td>\n",
              "      <td>3.830000</td>\n",
              "      <td>+625247977095</td>\n",
              "      <td>Jawa Barat</td>\n",
              "      <td>2003-05-26</td>\n",
              "    </tr>\n",
              "    <tr>\n",
              "      <th>16</th>\n",
              "      <td>17</td>\n",
              "      <td>GeneHale</td>\n",
              "      <td>Male</td>\n",
              "      <td>S1</td>\n",
              "      <td>Functional Expert Band 2</td>\n",
              "      <td>1979-04-21</td>\n",
              "      <td>4.260000</td>\n",
              "      <td>+625247975080</td>\n",
              "      <td>Jawa Barat</td>\n",
              "      <td>2002-11-19</td>\n",
              "    </tr>\n",
              "    <tr>\n",
              "      <th>17</th>\n",
              "      <td>18</td>\n",
              "      <td>SteveNguyen</td>\n",
              "      <td>Male</td>\n",
              "      <td>S1</td>\n",
              "      <td>Supervisor</td>\n",
              "      <td>1987-11-17</td>\n",
              "      <td>3.900000</td>\n",
              "      <td>+625247977041</td>\n",
              "      <td>Banten</td>\n",
              "      <td>2010-06-26</td>\n",
              "    </tr>\n",
              "    <tr>\n",
              "      <th>18</th>\n",
              "      <td>19</td>\n",
              "      <td>LindaCazamias</td>\n",
              "      <td>Female</td>\n",
              "      <td>S1</td>\n",
              "      <td>Staff</td>\n",
              "      <td>1998-09-08</td>\n",
              "      <td>3.980000</td>\n",
              "      <td>+625247960540</td>\n",
              "      <td>DKI Jakarta</td>\n",
              "      <td>2020-12-21</td>\n",
              "    </tr>\n",
              "    <tr>\n",
              "      <th>19</th>\n",
              "      <td>20</td>\n",
              "      <td>RubenAusman</td>\n",
              "      <td>Male</td>\n",
              "      <td>S2</td>\n",
              "      <td>Manager</td>\n",
              "      <td>1988-10-19</td>\n",
              "      <td>4.140000</td>\n",
              "      <td>+625247990049</td>\n",
              "      <td>Jawa Barat</td>\n",
              "      <td>2012-03-20</td>\n",
              "    </tr>\n",
              "  </tbody>\n",
              "</table>\n",
              "</div>\n",
              "      <button class=\"colab-df-convert\" onclick=\"convertToInteractive('df-12264aff-fce3-417a-804f-bae9582a82de')\"\n",
              "              title=\"Convert this dataframe to an interactive table.\"\n",
              "              style=\"display:none;\">\n",
              "        \n",
              "  <svg xmlns=\"http://www.w3.org/2000/svg\" height=\"24px\"viewBox=\"0 0 24 24\"\n",
              "       width=\"24px\">\n",
              "    <path d=\"M0 0h24v24H0V0z\" fill=\"none\"/>\n",
              "    <path d=\"M18.56 5.44l.94 2.06.94-2.06 2.06-.94-2.06-.94-.94-2.06-.94 2.06-2.06.94zm-11 1L8.5 8.5l.94-2.06 2.06-.94-2.06-.94L8.5 2.5l-.94 2.06-2.06.94zm10 10l.94 2.06.94-2.06 2.06-.94-2.06-.94-.94-2.06-.94 2.06-2.06.94z\"/><path d=\"M17.41 7.96l-1.37-1.37c-.4-.4-.92-.59-1.43-.59-.52 0-1.04.2-1.43.59L10.3 9.45l-7.72 7.72c-.78.78-.78 2.05 0 2.83L4 21.41c.39.39.9.59 1.41.59.51 0 1.02-.2 1.41-.59l7.78-7.78 2.81-2.81c.8-.78.8-2.07 0-2.86zM5.41 20L4 18.59l7.72-7.72 1.47 1.35L5.41 20z\"/>\n",
              "  </svg>\n",
              "      </button>\n",
              "      \n",
              "  <style>\n",
              "    .colab-df-container {\n",
              "      display:flex;\n",
              "      flex-wrap:wrap;\n",
              "      gap: 12px;\n",
              "    }\n",
              "\n",
              "    .colab-df-convert {\n",
              "      background-color: #E8F0FE;\n",
              "      border: none;\n",
              "      border-radius: 50%;\n",
              "      cursor: pointer;\n",
              "      display: none;\n",
              "      fill: #1967D2;\n",
              "      height: 32px;\n",
              "      padding: 0 0 0 0;\n",
              "      width: 32px;\n",
              "    }\n",
              "\n",
              "    .colab-df-convert:hover {\n",
              "      background-color: #E2EBFA;\n",
              "      box-shadow: 0px 1px 2px rgba(60, 64, 67, 0.3), 0px 1px 3px 1px rgba(60, 64, 67, 0.15);\n",
              "      fill: #174EA6;\n",
              "    }\n",
              "\n",
              "    [theme=dark] .colab-df-convert {\n",
              "      background-color: #3B4455;\n",
              "      fill: #D2E3FC;\n",
              "    }\n",
              "\n",
              "    [theme=dark] .colab-df-convert:hover {\n",
              "      background-color: #434B5C;\n",
              "      box-shadow: 0px 1px 3px 1px rgba(0, 0, 0, 0.15);\n",
              "      filter: drop-shadow(0px 1px 2px rgba(0, 0, 0, 0.3));\n",
              "      fill: #FFFFFF;\n",
              "    }\n",
              "  </style>\n",
              "\n",
              "      <script>\n",
              "        const buttonEl =\n",
              "          document.querySelector('#df-12264aff-fce3-417a-804f-bae9582a82de button.colab-df-convert');\n",
              "        buttonEl.style.display =\n",
              "          google.colab.kernel.accessAllowed ? 'block' : 'none';\n",
              "\n",
              "        async function convertToInteractive(key) {\n",
              "          const element = document.querySelector('#df-12264aff-fce3-417a-804f-bae9582a82de');\n",
              "          const dataTable =\n",
              "            await google.colab.kernel.invokeFunction('convertToInteractive',\n",
              "                                                     [key], {});\n",
              "          if (!dataTable) return;\n",
              "\n",
              "          const docLinkHtml = 'Like what you see? Visit the ' +\n",
              "            '<a target=\"_blank\" href=https://colab.research.google.com/notebooks/data_table.ipynb>data table notebook</a>'\n",
              "            + ' to learn more about interactive tables.';\n",
              "          element.innerHTML = '';\n",
              "          dataTable['output_type'] = 'display_data';\n",
              "          await google.colab.output.renderOutput(dataTable, element);\n",
              "          const docLink = document.createElement('div');\n",
              "          docLink.innerHTML = docLinkHtml;\n",
              "          element.appendChild(docLink);\n",
              "        }\n",
              "      </script>\n",
              "    </div>\n",
              "  </div>\n",
              "  "
            ]
          },
          "metadata": {},
          "execution_count": 53
        }
      ]
    },
    {
      "cell_type": "markdown",
      "source": [
        "#### Export cleaned dataset to .csv"
      ],
      "metadata": {
        "id": "wESyWWikhOpA"
      }
    },
    {
      "cell_type": "code",
      "source": [
        "dataset.to_csv('drive/MyDrive/DattabotTechnicalTest_DataEngineer/cleaned_dataset.csv', index=False)"
      ],
      "metadata": {
        "id": "cMJPqQN8hTBx"
      },
      "execution_count": null,
      "outputs": []
    }
  ]
}